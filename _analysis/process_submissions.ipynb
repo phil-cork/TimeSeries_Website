{
 "cells": [
  {
   "cell_type": "code",
   "execution_count": 1,
   "metadata": {},
   "outputs": [
    {
     "name": "stdout",
     "output_type": "stream",
     "text": [
      "/Users/prcork/Georgetown/Spring2023/TimeSeries/ANLY560_website\n"
     ]
    }
   ],
   "source": [
    "# import reddit api wrapper\n",
    "import praw\n",
    "import pandas as pd\n",
    "import numpy as np\n",
    "\n",
    "import datetime\n",
    "import tldextract\n",
    "\n",
    "import sqlite3\n",
    "\n",
    "pd.options.display.float_format = '{:.2f}'.format\n",
    "\n",
    "# Path hack\n",
    "import os\n",
    "# change directory from the current Analysis folder to the top level folder for easier navigation\n",
    "os.chdir('../')\n",
    "# confirm we're at /ANLY560_website\n",
    "print(os.getcwd())\n",
    "\n",
    "# note that the %load_ext autoreload line only needs to be be run once\n",
    "%load_ext autoreload\n"
   ]
  },
  {
   "cell_type": "code",
   "execution_count": 2,
   "metadata": {},
   "outputs": [
    {
     "name": "stderr",
     "output_type": "stream",
     "text": [
      "Version 7.6.0 of praw is outdated. Version 7.6.1 was released Friday November 11, 2022.\n"
     ]
    }
   ],
   "source": [
    "%autoreload\n",
    "from _functions.get_reddit_data import get_submissions, get_comments"
   ]
  },
  {
   "cell_type": "code",
   "execution_count": 3,
   "metadata": {},
   "outputs": [],
   "source": [
    "# get 1000 highest upvoted submissions from the last month\n",
    "magicTCG = get_submissions(subreddit=\"magicTCG\", time_filter=\"year\", limit=1000)\n",
    "finance = get_submissions(subreddit=\"mtgfinance\", time_filter=\"year\", limit=1000)"
   ]
  },
  {
   "cell_type": "code",
   "execution_count": 4,
   "metadata": {},
   "outputs": [
    {
     "name": "stdout",
     "output_type": "stream",
     "text": [
      "r/magicTCG\n",
      "(1000, 9)\n",
      "2374.503\n",
      "310.105\n",
      "\n",
      "r/finance\n",
      "(1000, 9)\n",
      "152.611\n",
      "101.407\n"
     ]
    }
   ],
   "source": [
    "# print stats to include in summary tables\n",
    "\n",
    "print(\"r/magicTCG\")\n",
    "print(magicTCG.shape)\n",
    "print(magicTCG.ups.mean())\n",
    "print(magicTCG.num_comments.mean())\n",
    "print()\n",
    "print(\"r/finance\")\n",
    "print(finance.shape)\n",
    "print(finance.ups.mean())\n",
    "print(finance.num_comments.mean())\n"
   ]
  },
  {
   "cell_type": "code",
   "execution_count": 5,
   "metadata": {},
   "outputs": [],
   "source": [
    "# categorize and merge subreddits for preprocessing\n",
    "\n",
    "magicTCG['subreddit'] = 'magicTCG'\n",
    "finance['subreddit'] = 'mtgfinance'\n",
    "\n",
    "df = pd.concat([magicTCG, finance])"
   ]
  },
  {
   "cell_type": "code",
   "execution_count": 6,
   "metadata": {},
   "outputs": [
    {
     "name": "stdout",
     "output_type": "stream",
     "text": [
      "(2000, 13)\n"
     ]
    },
    {
     "data": {
      "text/html": [
       "<div>\n",
       "<style scoped>\n",
       "    .dataframe tbody tr th:only-of-type {\n",
       "        vertical-align: middle;\n",
       "    }\n",
       "\n",
       "    .dataframe tbody tr th {\n",
       "        vertical-align: top;\n",
       "    }\n",
       "\n",
       "    .dataframe thead th {\n",
       "        text-align: right;\n",
       "    }\n",
       "</style>\n",
       "<table border=\"1\" class=\"dataframe\">\n",
       "  <thead>\n",
       "    <tr style=\"text-align: right;\">\n",
       "      <th></th>\n",
       "      <th>submission_id</th>\n",
       "      <th>title</th>\n",
       "      <th>created_utc</th>\n",
       "      <th>is_self</th>\n",
       "      <th>selftext</th>\n",
       "      <th>url</th>\n",
       "      <th>ups</th>\n",
       "      <th>upvote_ratio</th>\n",
       "      <th>num_comments</th>\n",
       "      <th>subreddit</th>\n",
       "      <th>date</th>\n",
       "      <th>image</th>\n",
       "      <th>domain</th>\n",
       "    </tr>\n",
       "  </thead>\n",
       "  <tbody>\n",
       "    <tr>\n",
       "      <th>439</th>\n",
       "      <td>xyy46h</td>\n",
       "      <td>$10,000 Kaalia Deck Gets Water Damaged (SCGCon...</td>\n",
       "      <td>1665249298.00</td>\n",
       "      <td>False</td>\n",
       "      <td></td>\n",
       "      <td>https://www.reddit.com/gallery/xyy46h</td>\n",
       "      <td>2175</td>\n",
       "      <td>0.95</td>\n",
       "      <td>612</td>\n",
       "      <td>magicTCG</td>\n",
       "      <td>2022-10-08</td>\n",
       "      <td>0</td>\n",
       "      <td>reddit</td>\n",
       "    </tr>\n",
       "    <tr>\n",
       "      <th>619</th>\n",
       "      <td>vrgrph</td>\n",
       "      <td>Pokemon TCG Shows Us What's Possible With Supply</td>\n",
       "      <td>1656967099.00</td>\n",
       "      <td>True</td>\n",
       "      <td>In the wake of 2x2 being short printed, many j...</td>\n",
       "      <td>https://www.reddit.com/r/magicTCG/comments/vrg...</td>\n",
       "      <td>1841</td>\n",
       "      <td>0.96</td>\n",
       "      <td>296</td>\n",
       "      <td>magicTCG</td>\n",
       "      <td>2022-07-04</td>\n",
       "      <td>0</td>\n",
       "      <td>reddit</td>\n",
       "    </tr>\n",
       "    <tr>\n",
       "      <th>909</th>\n",
       "      <td>10mv1ft</td>\n",
       "      <td>I designed a modular command zone/game tracker...</td>\n",
       "      <td>1674851056.00</td>\n",
       "      <td>False</td>\n",
       "      <td></td>\n",
       "      <td>https://v.redd.it/uhfsxn3lymea1</td>\n",
       "      <td>1474</td>\n",
       "      <td>0.97</td>\n",
       "      <td>115</td>\n",
       "      <td>magicTCG</td>\n",
       "      <td>2023-01-27</td>\n",
       "      <td>0</td>\n",
       "      <td>redd</td>\n",
       "    </tr>\n",
       "    <tr>\n",
       "      <th>963</th>\n",
       "      <td>uhkggz</td>\n",
       "      <td>Unfinity Collector's Booster Box Pre-Order is ...</td>\n",
       "      <td>1651596735.00</td>\n",
       "      <td>False</td>\n",
       "      <td></td>\n",
       "      <td>https://www.amazon.com/Magic-Gathering-Unfinit...</td>\n",
       "      <td>51</td>\n",
       "      <td>0.91</td>\n",
       "      <td>43</td>\n",
       "      <td>mtgfinance</td>\n",
       "      <td>2022-05-03</td>\n",
       "      <td>0</td>\n",
       "      <td>amazon</td>\n",
       "    </tr>\n",
       "    <tr>\n",
       "      <th>58</th>\n",
       "      <td>10isvys</td>\n",
       "      <td>In 2017 Magic Artist Daarken was commissioned ...</td>\n",
       "      <td>1674418213.00</td>\n",
       "      <td>False</td>\n",
       "      <td></td>\n",
       "      <td>https://i.imgur.com/BIYg33q.jpg</td>\n",
       "      <td>4279</td>\n",
       "      <td>0.99</td>\n",
       "      <td>204</td>\n",
       "      <td>magicTCG</td>\n",
       "      <td>2023-01-22</td>\n",
       "      <td>1</td>\n",
       "      <td>imgur</td>\n",
       "    </tr>\n",
       "  </tbody>\n",
       "</table>\n",
       "</div>"
      ],
      "text/plain": [
       "    submission_id                                              title  \\\n",
       "439        xyy46h  $10,000 Kaalia Deck Gets Water Damaged (SCGCon...   \n",
       "619        vrgrph   Pokemon TCG Shows Us What's Possible With Supply   \n",
       "909       10mv1ft  I designed a modular command zone/game tracker...   \n",
       "963        uhkggz  Unfinity Collector's Booster Box Pre-Order is ...   \n",
       "58        10isvys  In 2017 Magic Artist Daarken was commissioned ...   \n",
       "\n",
       "      created_utc  is_self                                           selftext  \\\n",
       "439 1665249298.00    False                                                      \n",
       "619 1656967099.00     True  In the wake of 2x2 being short printed, many j...   \n",
       "909 1674851056.00    False                                                      \n",
       "963 1651596735.00    False                                                      \n",
       "58  1674418213.00    False                                                      \n",
       "\n",
       "                                                   url   ups  upvote_ratio  \\\n",
       "439              https://www.reddit.com/gallery/xyy46h  2175          0.95   \n",
       "619  https://www.reddit.com/r/magicTCG/comments/vrg...  1841          0.96   \n",
       "909                    https://v.redd.it/uhfsxn3lymea1  1474          0.97   \n",
       "963  https://www.amazon.com/Magic-Gathering-Unfinit...    51          0.91   \n",
       "58                     https://i.imgur.com/BIYg33q.jpg  4279          0.99   \n",
       "\n",
       "     num_comments   subreddit        date  image  domain  \n",
       "439           612    magicTCG  2022-10-08      0  reddit  \n",
       "619           296    magicTCG  2022-07-04      0  reddit  \n",
       "909           115    magicTCG  2023-01-27      0    redd  \n",
       "963            43  mtgfinance  2022-05-03      0  amazon  \n",
       "58            204    magicTCG  2023-01-22      1   imgur  "
      ]
     },
     "execution_count": 6,
     "metadata": {},
     "output_type": "execute_result"
    }
   ],
   "source": [
    "# convert UTC to datetime, then store only date\n",
    "df['date'] = df['created_utc'].apply(lambda utc_entry: datetime.datetime.utcfromtimestamp(utc_entry))\n",
    "df['date'] = df['date'].dt.date\n",
    "\n",
    "# if the last four characters of the url are an image filetype, categorize the submission as an image\n",
    "df['image'] = np.where(df.url.str[-4:].isin(['.jpg', '.png', '.gif']), 1, 0)\n",
    "\n",
    "# split the url into sub, domain, and extension, store only domain\n",
    "df['domain'] = df['url'].apply(lambda x: tldextract.extract(x).domain)\n",
    "\n",
    "print(df.shape)\n",
    "df.sample(5)"
   ]
  },
  {
   "cell_type": "code",
   "execution_count": 7,
   "metadata": {},
   "outputs": [],
   "source": [
    "df.drop(['created_utc', 'url'], axis=1, inplace=True)\n",
    "#df.to_csv(\"_data/reddit_top_year_submissions.csv\", index=False)"
   ]
  },
  {
   "cell_type": "code",
   "execution_count": 8,
   "metadata": {},
   "outputs": [],
   "source": [
    "with sqlite3.connect(\"_data/magic_reddit.db\") as conn:\n",
    "    \n",
    "    df.to_sql(name='submissions', con=conn, if_exists='append', index=False)"
   ]
  }
 ],
 "metadata": {
  "kernelspec": {
   "display_name": "base",
   "language": "python",
   "name": "python3"
  },
  "language_info": {
   "codemirror_mode": {
    "name": "ipython",
    "version": 3
   },
   "file_extension": ".py",
   "mimetype": "text/x-python",
   "name": "python",
   "nbconvert_exporter": "python",
   "pygments_lexer": "ipython3",
   "version": "3.8.8"
  },
  "orig_nbformat": 4,
  "vscode": {
   "interpreter": {
    "hash": "40d3a090f54c6569ab1632332b64b2c03c39dcf918b08424e98f38b5ae0af88f"
   }
  }
 },
 "nbformat": 4,
 "nbformat_minor": 2
}
