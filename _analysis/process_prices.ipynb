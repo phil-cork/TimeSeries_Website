{
 "cells": [
  {
   "cell_type": "code",
   "execution_count": 1,
   "metadata": {},
   "outputs": [],
   "source": [
    "import pandas as pd\n",
    "import json"
   ]
  },
  {
   "cell_type": "code",
   "execution_count": 2,
   "metadata": {},
   "outputs": [
    {
     "name": "stderr",
     "output_type": "stream",
     "text": [
      "<ipython-input-2-2b8791a29cd9>:2: DtypeWarning: Columns (11,17,21,25,28,52,58,59,66,67,76,77,84,85) have mixed types. Specify dtype option on import or set low_memory=False.\n",
      "  cards = pd.read_csv(\"../_data/cards.csv\")\n"
     ]
    }
   ],
   "source": [
    "allprices = json.load(open(\"../_data/AllPrices.json\"))\n",
    "cards = pd.read_csv(\"../_data/cards.csv\")"
   ]
  },
  {
   "attachments": {},
   "cell_type": "markdown",
   "metadata": {},
   "source": [
    "## Format Card Data"
   ]
  },
  {
   "cell_type": "code",
   "execution_count": 3,
   "metadata": {},
   "outputs": [
    {
     "data": {
      "text/plain": [
       "Index(['index', 'id', 'artist', 'asciiName', 'attractionLights',\n",
       "       'availability', 'boosterTypes', 'borderColor', 'cardKingdomEtchedId',\n",
       "       'cardKingdomFoilId', 'cardKingdomId', 'cardParts', 'cardsphereId',\n",
       "       'colorIdentity', 'colorIndicator', 'colors', 'convertedManaCost',\n",
       "       'duelDeck', 'edhrecRank', 'edhrecSaltiness', 'faceConvertedManaCost',\n",
       "       'faceFlavorName', 'faceManaValue', 'faceName', 'finishes', 'flavorName',\n",
       "       'flavorText', 'frameEffects', 'frameVersion', 'hand',\n",
       "       'hasAlternativeDeckLimit', 'hasContentWarning', 'hasFoil', 'hasNonFoil',\n",
       "       'isAlternative', 'isFullArt', 'isFunny', 'isOnlineOnly', 'isOversized',\n",
       "       'isPromo', 'isRebalanced', 'isReprint', 'isReserved', 'isStarter',\n",
       "       'isStorySpotlight', 'isTextless', 'isTimeshifted', 'keywords',\n",
       "       'language', 'layout', 'leadershipSkills', 'life', 'loyalty', 'manaCost',\n",
       "       'manaValue', 'mcmId', 'mcmMetaId', 'mtgArenaId', 'mtgjsonFoilVersionId',\n",
       "       'mtgjsonNonFoilVersionId', 'mtgjsonV4Id', 'mtgoFoilId', 'mtgoId',\n",
       "       'multiverseId', 'name', 'number', 'originalPrintings',\n",
       "       'originalReleaseDate', 'originalText', 'originalType', 'otherFaceIds',\n",
       "       'power', 'printings', 'promoTypes', 'purchaseUrls', 'rarity',\n",
       "       'rebalancedPrintings', 'relatedCards', 'scryfallId',\n",
       "       'scryfallIllustrationId', 'scryfallOracleId', 'securityStamp',\n",
       "       'setCode', 'side', 'signature', 'subset', 'subtypes', 'supertypes',\n",
       "       'tcgplayerEtchedProductId', 'tcgplayerProductId', 'text', 'toughness',\n",
       "       'type', 'types', 'uuid', 'variations', 'watermark'],\n",
       "      dtype='object')"
      ]
     },
     "execution_count": 3,
     "metadata": {},
     "output_type": "execute_result"
    }
   ],
   "source": [
    "cards.columns"
   ]
  },
  {
   "cell_type": "code",
   "execution_count": 4,
   "metadata": {},
   "outputs": [],
   "source": [
    "cards = cards[['uuid', 'name', 'colorIdentity', 'colors', 'convertedManaCost',\n",
    "                    'edhrecRank', 'edhrecSaltiness', 'isReserved', 'isReprint',\n",
    "                    'keywords', 'language', 'loyalty', 'manaCost',\n",
    "                    'manaValue', 'originalPrintings', 'originalReleaseDate', 'power', 'toughness',\n",
    "                    'printings', 'rarity', 'setCode', 'type', 'types']].copy()"
   ]
  },
  {
   "attachments": {},
   "cell_type": "markdown",
   "metadata": {},
   "source": [
    "## Format Price Data"
   ]
  },
  {
   "cell_type": "code",
   "execution_count": 5,
   "metadata": {},
   "outputs": [
    {
     "data": {
      "text/plain": [
       "77055"
      ]
     },
     "execution_count": 5,
     "metadata": {},
     "output_type": "execute_result"
    }
   ],
   "source": [
    "id_list = [i for i in allprices['data']]\n",
    "len(id_list)"
   ]
  },
  {
   "cell_type": "code",
   "execution_count": 6,
   "metadata": {},
   "outputs": [],
   "source": [
    "price_list = []\n",
    "for id in id_list:\n",
    "  try:\n",
    "    # only keep instances where there are paper cards sold at tcgplayer at retail price\n",
    "    card_styles = allprices['data'][id].get('paper').get('tcgplayer').get('retail')\n",
    "    for each_card in card_styles:\n",
    "        for each_date in card_styles.get(each_card):\n",
    "          price = card_styles.get(each_card).get(each_date)\n",
    "          price_list.append( (id,each_card,each_date,price) )\n",
    "  except:\n",
    "    pass"
   ]
  },
  {
   "cell_type": "code",
   "execution_count": 7,
   "metadata": {},
   "outputs": [],
   "source": [
    "price_df = pd.DataFrame(price_list, columns=['uuid', 'style', 'date','price'])"
   ]
  },
  {
   "attachments": {},
   "cell_type": "markdown",
   "metadata": {},
   "source": [
    "## Merge Card & Price Data"
   ]
  },
  {
   "cell_type": "code",
   "execution_count": 8,
   "metadata": {},
   "outputs": [],
   "source": [
    "merged_df = price_df.merge(cards, on='uuid')"
   ]
  },
  {
   "cell_type": "code",
   "execution_count": 9,
   "metadata": {},
   "outputs": [
    {
     "data": {
      "text/html": [
       "<div>\n",
       "<style scoped>\n",
       "    .dataframe tbody tr th:only-of-type {\n",
       "        vertical-align: middle;\n",
       "    }\n",
       "\n",
       "    .dataframe tbody tr th {\n",
       "        vertical-align: top;\n",
       "    }\n",
       "\n",
       "    .dataframe thead th {\n",
       "        text-align: right;\n",
       "    }\n",
       "</style>\n",
       "<table border=\"1\" class=\"dataframe\">\n",
       "  <thead>\n",
       "    <tr style=\"text-align: right;\">\n",
       "      <th></th>\n",
       "      <th>uuid</th>\n",
       "      <th>style</th>\n",
       "      <th>date</th>\n",
       "      <th>price</th>\n",
       "      <th>name</th>\n",
       "      <th>colorIdentity</th>\n",
       "      <th>colors</th>\n",
       "      <th>convertedManaCost</th>\n",
       "      <th>edhrecRank</th>\n",
       "      <th>edhrecSaltiness</th>\n",
       "      <th>...</th>\n",
       "      <th>manaValue</th>\n",
       "      <th>originalPrintings</th>\n",
       "      <th>originalReleaseDate</th>\n",
       "      <th>power</th>\n",
       "      <th>toughness</th>\n",
       "      <th>printings</th>\n",
       "      <th>rarity</th>\n",
       "      <th>setCode</th>\n",
       "      <th>type</th>\n",
       "      <th>types</th>\n",
       "    </tr>\n",
       "  </thead>\n",
       "  <tbody>\n",
       "    <tr>\n",
       "      <th>1789716</th>\n",
       "      <td>4c538ca4-52a8-544a-9598-af957e05fce2</td>\n",
       "      <td>normal</td>\n",
       "      <td>2022-12-03</td>\n",
       "      <td>0.59</td>\n",
       "      <td>Ancient Amphitheater</td>\n",
       "      <td>R,W</td>\n",
       "      <td>NaN</td>\n",
       "      <td>0.0</td>\n",
       "      <td>7373.0</td>\n",
       "      <td>0.04</td>\n",
       "      <td>...</td>\n",
       "      <td>0.0</td>\n",
       "      <td>NaN</td>\n",
       "      <td>NaN</td>\n",
       "      <td>NaN</td>\n",
       "      <td>NaN</td>\n",
       "      <td>C15,CM2,LRW</td>\n",
       "      <td>rare</td>\n",
       "      <td>LRW</td>\n",
       "      <td>Land</td>\n",
       "      <td>Land</td>\n",
       "    </tr>\n",
       "    <tr>\n",
       "      <th>7283607</th>\n",
       "      <td>3f840a21-aa97-53a2-b814-dd66783da008</td>\n",
       "      <td>foil</td>\n",
       "      <td>2022-12-16</td>\n",
       "      <td>11.81</td>\n",
       "      <td>Wedding Announcement // Wedding Festivity</td>\n",
       "      <td>W</td>\n",
       "      <td>W</td>\n",
       "      <td>3.0</td>\n",
       "      <td>4759.0</td>\n",
       "      <td>NaN</td>\n",
       "      <td>...</td>\n",
       "      <td>3.0</td>\n",
       "      <td>NaN</td>\n",
       "      <td>NaN</td>\n",
       "      <td>NaN</td>\n",
       "      <td>NaN</td>\n",
       "      <td>DBL,PRM,PVOW,VOW</td>\n",
       "      <td>rare</td>\n",
       "      <td>VOW</td>\n",
       "      <td>Enchantment</td>\n",
       "      <td>Enchantment</td>\n",
       "    </tr>\n",
       "    <tr>\n",
       "      <th>4074279</th>\n",
       "      <td>ad0ae266-c397-5bbd-8e25-531e3e6067c4</td>\n",
       "      <td>foil</td>\n",
       "      <td>2023-01-14</td>\n",
       "      <td>10.58</td>\n",
       "      <td>Edric, Spymaster of Trest</td>\n",
       "      <td>G,U</td>\n",
       "      <td>G,U</td>\n",
       "      <td>3.0</td>\n",
       "      <td>2169.0</td>\n",
       "      <td>0.66</td>\n",
       "      <td>...</td>\n",
       "      <td>3.0</td>\n",
       "      <td>NaN</td>\n",
       "      <td>NaN</td>\n",
       "      <td>2</td>\n",
       "      <td>2</td>\n",
       "      <td>C16,CM1,CMD,CNS,PCMD,PZ1,VMA</td>\n",
       "      <td>rare</td>\n",
       "      <td>CNS</td>\n",
       "      <td>Legendary Creature — Elf Rogue</td>\n",
       "      <td>Creature</td>\n",
       "    </tr>\n",
       "    <tr>\n",
       "      <th>1360645</th>\n",
       "      <td>39e91b03-f282-5565-a451-ee67fed2c2c5</td>\n",
       "      <td>foil</td>\n",
       "      <td>2022-12-26</td>\n",
       "      <td>0.95</td>\n",
       "      <td>Keruga, the Macrosage</td>\n",
       "      <td>G,U</td>\n",
       "      <td>G,U</td>\n",
       "      <td>5.0</td>\n",
       "      <td>5596.0</td>\n",
       "      <td>0.21</td>\n",
       "      <td>...</td>\n",
       "      <td>5.0</td>\n",
       "      <td>NaN</td>\n",
       "      <td>NaN</td>\n",
       "      <td>5</td>\n",
       "      <td>4</td>\n",
       "      <td>IKO,PIKO,PRM</td>\n",
       "      <td>rare</td>\n",
       "      <td>PIKO</td>\n",
       "      <td>Legendary Creature — Dinosaur Hippo</td>\n",
       "      <td>Creature</td>\n",
       "    </tr>\n",
       "    <tr>\n",
       "      <th>5233407</th>\n",
       "      <td>dd9b88b0-6de8-5268-abbe-cd3e5f9ba0c5</td>\n",
       "      <td>foil</td>\n",
       "      <td>2022-12-08</td>\n",
       "      <td>0.13</td>\n",
       "      <td>Saddleback Lagac</td>\n",
       "      <td>G</td>\n",
       "      <td>G</td>\n",
       "      <td>4.0</td>\n",
       "      <td>18824.0</td>\n",
       "      <td>0.29</td>\n",
       "      <td>...</td>\n",
       "      <td>4.0</td>\n",
       "      <td>NaN</td>\n",
       "      <td>NaN</td>\n",
       "      <td>3</td>\n",
       "      <td>1</td>\n",
       "      <td>BBD,DDR,OGW</td>\n",
       "      <td>common</td>\n",
       "      <td>BBD</td>\n",
       "      <td>Creature — Lizard</td>\n",
       "      <td>Creature</td>\n",
       "    </tr>\n",
       "  </tbody>\n",
       "</table>\n",
       "<p>5 rows × 26 columns</p>\n",
       "</div>"
      ],
      "text/plain": [
       "                                         uuid   style        date  price  \\\n",
       "1789716  4c538ca4-52a8-544a-9598-af957e05fce2  normal  2022-12-03   0.59   \n",
       "7283607  3f840a21-aa97-53a2-b814-dd66783da008    foil  2022-12-16  11.81   \n",
       "4074279  ad0ae266-c397-5bbd-8e25-531e3e6067c4    foil  2023-01-14  10.58   \n",
       "1360645  39e91b03-f282-5565-a451-ee67fed2c2c5    foil  2022-12-26   0.95   \n",
       "5233407  dd9b88b0-6de8-5268-abbe-cd3e5f9ba0c5    foil  2022-12-08   0.13   \n",
       "\n",
       "                                              name colorIdentity colors  \\\n",
       "1789716                       Ancient Amphitheater           R,W    NaN   \n",
       "7283607  Wedding Announcement // Wedding Festivity             W      W   \n",
       "4074279                  Edric, Spymaster of Trest           G,U    G,U   \n",
       "1360645                      Keruga, the Macrosage           G,U    G,U   \n",
       "5233407                           Saddleback Lagac             G      G   \n",
       "\n",
       "         convertedManaCost  edhrecRank  edhrecSaltiness  ...  manaValue  \\\n",
       "1789716                0.0      7373.0             0.04  ...        0.0   \n",
       "7283607                3.0      4759.0              NaN  ...        3.0   \n",
       "4074279                3.0      2169.0             0.66  ...        3.0   \n",
       "1360645                5.0      5596.0             0.21  ...        5.0   \n",
       "5233407                4.0     18824.0             0.29  ...        4.0   \n",
       "\n",
       "         originalPrintings originalReleaseDate power toughness  \\\n",
       "1789716                NaN                 NaN   NaN       NaN   \n",
       "7283607                NaN                 NaN   NaN       NaN   \n",
       "4074279                NaN                 NaN     2         2   \n",
       "1360645                NaN                 NaN     5         4   \n",
       "5233407                NaN                 NaN     3         1   \n",
       "\n",
       "                            printings  rarity setCode  \\\n",
       "1789716                   C15,CM2,LRW    rare     LRW   \n",
       "7283607              DBL,PRM,PVOW,VOW    rare     VOW   \n",
       "4074279  C16,CM1,CMD,CNS,PCMD,PZ1,VMA    rare     CNS   \n",
       "1360645                  IKO,PIKO,PRM    rare    PIKO   \n",
       "5233407                   BBD,DDR,OGW  common     BBD   \n",
       "\n",
       "                                        type        types  \n",
       "1789716                                 Land         Land  \n",
       "7283607                          Enchantment  Enchantment  \n",
       "4074279       Legendary Creature — Elf Rogue     Creature  \n",
       "1360645  Legendary Creature — Dinosaur Hippo     Creature  \n",
       "5233407                    Creature — Lizard     Creature  \n",
       "\n",
       "[5 rows x 26 columns]"
      ]
     },
     "execution_count": 9,
     "metadata": {},
     "output_type": "execute_result"
    }
   ],
   "source": [
    "merged_df.sample(5)"
   ]
  },
  {
   "attachments": {},
   "cell_type": "markdown",
   "metadata": {},
   "source": [
    "## Output Data for Data Viz"
   ]
  },
  {
   "cell_type": "code",
   "execution_count": 10,
   "metadata": {},
   "outputs": [],
   "source": [
    "# create a csv of the entire dataframe\n",
    "merged_df.to_csv(\"../_data/card_prices_output.csv\", index=False)"
   ]
  },
  {
   "cell_type": "code",
   "execution_count": 12,
   "metadata": {},
   "outputs": [
    {
     "data": {
      "text/html": [
       "<div>\n",
       "<style scoped>\n",
       "    .dataframe tbody tr th:only-of-type {\n",
       "        vertical-align: middle;\n",
       "    }\n",
       "\n",
       "    .dataframe tbody tr th {\n",
       "        vertical-align: top;\n",
       "    }\n",
       "\n",
       "    .dataframe thead th {\n",
       "        text-align: right;\n",
       "    }\n",
       "</style>\n",
       "<table border=\"1\" class=\"dataframe\">\n",
       "  <thead>\n",
       "    <tr style=\"text-align: right;\">\n",
       "      <th></th>\n",
       "      <th>uuid</th>\n",
       "      <th>style</th>\n",
       "      <th>price</th>\n",
       "    </tr>\n",
       "  </thead>\n",
       "  <tbody>\n",
       "    <tr>\n",
       "      <th>0</th>\n",
       "      <td>00010d56-fe38-5e35-8aed-518019aa36a5</td>\n",
       "      <td>foil</td>\n",
       "      <td>8.69</td>\n",
       "    </tr>\n",
       "    <tr>\n",
       "      <th>1</th>\n",
       "      <td>0001e0d0-2dcd-5640-aadc-a84765cf5fc9</td>\n",
       "      <td>normal</td>\n",
       "      <td>5.51</td>\n",
       "    </tr>\n",
       "    <tr>\n",
       "      <th>2</th>\n",
       "      <td>0003caab-9ff5-5d1a-bc06-976dd0457f19</td>\n",
       "      <td>foil</td>\n",
       "      <td>4.93</td>\n",
       "    </tr>\n",
       "    <tr>\n",
       "      <th>3</th>\n",
       "      <td>0003caab-9ff5-5d1a-bc06-976dd0457f19</td>\n",
       "      <td>normal</td>\n",
       "      <td>0.19</td>\n",
       "    </tr>\n",
       "    <tr>\n",
       "      <th>4</th>\n",
       "      <td>0003d249-25d9-5223-af1e-1130f09622a7</td>\n",
       "      <td>foil</td>\n",
       "      <td>0.30</td>\n",
       "    </tr>\n",
       "    <tr>\n",
       "      <th>...</th>\n",
       "      <td>...</td>\n",
       "      <td>...</td>\n",
       "      <td>...</td>\n",
       "    </tr>\n",
       "    <tr>\n",
       "      <th>100815</th>\n",
       "      <td>fffa9242-6444-567c-a45b-da2b45249232</td>\n",
       "      <td>foil</td>\n",
       "      <td>0.47</td>\n",
       "    </tr>\n",
       "    <tr>\n",
       "      <th>100816</th>\n",
       "      <td>fffb659e-b3fa-5cd8-9423-fe5ac74248b5</td>\n",
       "      <td>normal</td>\n",
       "      <td>0.30</td>\n",
       "    </tr>\n",
       "    <tr>\n",
       "      <th>100817</th>\n",
       "      <td>fffbc95a-c4d1-56aa-8653-8a7c71fe19ce</td>\n",
       "      <td>normal</td>\n",
       "      <td>7.45</td>\n",
       "    </tr>\n",
       "    <tr>\n",
       "      <th>100818</th>\n",
       "      <td>fffc1305-a118-559b-9504-3d7b56ca0bde</td>\n",
       "      <td>normal</td>\n",
       "      <td>1.65</td>\n",
       "    </tr>\n",
       "    <tr>\n",
       "      <th>100819</th>\n",
       "      <td>fffdd333-3789-5104-a8be-37be199a2cb1</td>\n",
       "      <td>normal</td>\n",
       "      <td>1.65</td>\n",
       "    </tr>\n",
       "  </tbody>\n",
       "</table>\n",
       "<p>100820 rows × 3 columns</p>\n",
       "</div>"
      ],
      "text/plain": [
       "                                        uuid   style  price\n",
       "0       00010d56-fe38-5e35-8aed-518019aa36a5    foil   8.69\n",
       "1       0001e0d0-2dcd-5640-aadc-a84765cf5fc9  normal   5.51\n",
       "2       0003caab-9ff5-5d1a-bc06-976dd0457f19    foil   4.93\n",
       "3       0003caab-9ff5-5d1a-bc06-976dd0457f19  normal   0.19\n",
       "4       0003d249-25d9-5223-af1e-1130f09622a7    foil   0.30\n",
       "...                                      ...     ...    ...\n",
       "100815  fffa9242-6444-567c-a45b-da2b45249232    foil   0.47\n",
       "100816  fffb659e-b3fa-5cd8-9423-fe5ac74248b5  normal   0.30\n",
       "100817  fffbc95a-c4d1-56aa-8653-8a7c71fe19ce  normal   7.45\n",
       "100818  fffc1305-a118-559b-9504-3d7b56ca0bde  normal   1.65\n",
       "100819  fffdd333-3789-5104-a8be-37be199a2cb1  normal   1.65\n",
       "\n",
       "[100820 rows x 3 columns]"
      ]
     },
     "execution_count": 12,
     "metadata": {},
     "output_type": "execute_result"
    }
   ],
   "source": [
    "# without keeping card data, calculate only average price for creating histogram of average prices\n",
    "avg_price = price_df[['uuid', 'style', 'price']].groupby(['uuid', 'style']).mean().round(2).reset_index()\n",
    "avg_price"
   ]
  },
  {
   "cell_type": "code",
   "execution_count": 13,
   "metadata": {},
   "outputs": [],
   "source": [
    "avg_price.to_csv('../_data/avg_price_output.csv', index=False)"
   ]
  }
 ],
 "metadata": {
  "kernelspec": {
   "display_name": "base",
   "language": "python",
   "name": "python3"
  },
  "language_info": {
   "codemirror_mode": {
    "name": "ipython",
    "version": 3
   },
   "file_extension": ".py",
   "mimetype": "text/x-python",
   "name": "python",
   "nbconvert_exporter": "python",
   "pygments_lexer": "ipython3",
   "version": "3.8.8"
  },
  "orig_nbformat": 4,
  "vscode": {
   "interpreter": {
    "hash": "40d3a090f54c6569ab1632332b64b2c03c39dcf918b08424e98f38b5ae0af88f"
   }
  }
 },
 "nbformat": 4,
 "nbformat_minor": 2
}
