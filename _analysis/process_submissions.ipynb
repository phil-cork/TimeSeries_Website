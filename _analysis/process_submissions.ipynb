{
 "cells": [
  {
   "cell_type": "code",
   "execution_count": 1,
   "metadata": {},
   "outputs": [
    {
     "name": "stdout",
     "output_type": "stream",
     "text": [
      "/Users/prcork/Georgetown/Spring2023/TimeSeries/ANLY560_website\n"
     ]
    }
   ],
   "source": [
    "# import reddit api wrapper\n",
    "import praw\n",
    "import pandas as pd\n",
    "import numpy as np\n",
    "\n",
    "import datetime\n",
    "import tldextract\n",
    "\n",
    "pd.options.display.float_format = '{:.2f}'.format\n",
    "\n",
    "# Path hack\n",
    "import os\n",
    "# change directory from the current Analysis folder to the top level folder for easier navigation\n",
    "os.chdir('../')\n",
    "# confirm we're at /ANLY560_website\n",
    "print(os.getcwd())\n",
    "\n",
    "# note that the %load_ext autoreload line only needs to be be run once\n",
    "%load_ext autoreload\n"
   ]
  },
  {
   "cell_type": "code",
   "execution_count": 2,
   "metadata": {},
   "outputs": [
    {
     "name": "stderr",
     "output_type": "stream",
     "text": [
      "Version 7.6.0 of praw is outdated. Version 7.6.1 was released Friday November 11, 2022.\n"
     ]
    }
   ],
   "source": [
    "%autoreload\n",
    "from _functions.get_reddit_data import get_submissions, get_comments"
   ]
  },
  {
   "cell_type": "code",
   "execution_count": 3,
   "metadata": {},
   "outputs": [],
   "source": [
    "# get 1000 highest upvoted submissions from the last month\n",
    "magicTCG = get_submissions(subreddit=\"magicTCG\", time_filter=\"month\", limit=1000)\n",
    "finance = get_submissions(subreddit=\"mtgfinance\", time_filter=\"month\", limit=1000)"
   ]
  },
  {
   "cell_type": "code",
   "execution_count": null,
   "metadata": {},
   "outputs": [],
   "source": [
    "# print stats to include in summary tables\n",
    "\n",
    "print(\"r/magicTCG\")\n",
    "print(magicTCG.shape)\n",
    "print(magicTCG.ups.mean())\n",
    "print(magicTCG.num_comments.mean())\n",
    "print()\n",
    "print(\"r/finance\")\n",
    "print(finance.shape)\n",
    "print(finance.ups.mean())\n",
    "print(finance.num_comments.mean())\n"
   ]
  },
  {
   "cell_type": "code",
   "execution_count": null,
   "metadata": {},
   "outputs": [],
   "source": [
    "# categorize and merge subreddits for preprocessing\n",
    "\n",
    "magicTCG['subreddit'] = 'magicTCG'\n",
    "finance['subreddit'] = 'mtgfinance'\n",
    "\n",
    "df = pd.concat([magicTCG, finance])"
   ]
  },
  {
   "cell_type": "code",
   "execution_count": null,
   "metadata": {},
   "outputs": [],
   "source": [
    "# convert UTC to datetime, then store only date\n",
    "df['date'] = df['created_utc'].apply(lambda utc_entry: datetime.datetime.utcfromtimestamp(utc_entry))\n",
    "df['date'] = df['date'].dt.date\n",
    "\n",
    "# if the last four characters of the url are an image filetype, categorize the submission as an image\n",
    "df['image'] = np.where(df.url.str[-4:].isin(['.jpg', '.png', '.gif']), 1, 0)\n",
    "\n",
    "# split the url into sub, domain, and extension, store only domain\n",
    "df['domain'] = df['url'].apply(lambda x: tldextract.extract(x).domain)\n",
    "\n",
    "print(df.shape)\n",
    "df.sample(5)"
   ]
  },
  {
   "cell_type": "code",
   "execution_count": null,
   "metadata": {},
   "outputs": [],
   "source": [
    "df.drop(['created_utc', 'url'], axis=1, inplace=True)\n",
    "df.to_csv(\"_data/reddit_top_month_submissions.csv\", index=False)"
   ]
  }
 ],
 "metadata": {
  "kernelspec": {
   "display_name": "base",
   "language": "python",
   "name": "python3"
  },
  "language_info": {
   "codemirror_mode": {
    "name": "ipython",
    "version": 3
   },
   "file_extension": ".py",
   "mimetype": "text/x-python",
   "name": "python",
   "nbconvert_exporter": "python",
   "pygments_lexer": "ipython3",
   "version": "3.8.8"
  },
  "orig_nbformat": 4,
  "vscode": {
   "interpreter": {
    "hash": "40d3a090f54c6569ab1632332b64b2c03c39dcf918b08424e98f38b5ae0af88f"
   }
  }
 },
 "nbformat": 4,
 "nbformat_minor": 2
}
