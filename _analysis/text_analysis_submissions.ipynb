{
 "cells": [
  {
   "cell_type": "code",
   "execution_count": 1,
   "metadata": {},
   "outputs": [
    {
     "name": "stdout",
     "output_type": "stream",
     "text": [
      "/Users/prcork/Georgetown/Spring2023/TimeSeries/ANLY560_website\n"
     ]
    }
   ],
   "source": [
    "import pandas as pd\n",
    "\n",
    "# Path hack\n",
    "import os\n",
    "# change directory from the current Analysis folder to the top level folder for easier navigation\n",
    "os.chdir('../')\n",
    "# confirm we're at top level folder\n",
    "print(os.getcwd())\n",
    "\n",
    "# note that the %load_ext autoreload line only needs to be be run once\n",
    "%load_ext autoreload"
   ]
  },
  {
   "cell_type": "code",
   "execution_count": 4,
   "metadata": {},
   "outputs": [],
   "source": [
    "# import text analysis functions\n",
    "%autoreload\n",
    "from _functions import get_reddit_data, text_analysis"
   ]
  },
  {
   "cell_type": "code",
   "execution_count": 7,
   "metadata": {},
   "outputs": [],
   "source": [
    "df = pd.read_csv(\"_data/reddit_top_month_submissions.csv\")\n",
    "# subset to each subreddit\n",
    "magicTCG = df.query(\"subreddit=='magicTCG'\").copy()\n",
    "finance = df.query(\"subreddit=='mtgfinance'\").copy()"
   ]
  },
  {
   "cell_type": "code",
   "execution_count": 8,
   "metadata": {},
   "outputs": [
    {
     "data": {
      "text/html": [
       "<div>\n",
       "<style scoped>\n",
       "    .dataframe tbody tr th:only-of-type {\n",
       "        vertical-align: middle;\n",
       "    }\n",
       "\n",
       "    .dataframe tbody tr th {\n",
       "        vertical-align: top;\n",
       "    }\n",
       "\n",
       "    .dataframe thead th {\n",
       "        text-align: right;\n",
       "    }\n",
       "</style>\n",
       "<table border=\"1\" class=\"dataframe\">\n",
       "  <thead>\n",
       "    <tr style=\"text-align: right;\">\n",
       "      <th></th>\n",
       "      <th>submission_id</th>\n",
       "      <th>title</th>\n",
       "      <th>is_self</th>\n",
       "      <th>selftext</th>\n",
       "      <th>ups</th>\n",
       "      <th>upvote_ratio</th>\n",
       "      <th>num_comments</th>\n",
       "      <th>subreddit</th>\n",
       "      <th>date</th>\n",
       "      <th>image</th>\n",
       "      <th>domain</th>\n",
       "    </tr>\n",
       "  </thead>\n",
       "  <tbody>\n",
       "    <tr>\n",
       "      <th>999</th>\n",
       "      <td>10abeeg</td>\n",
       "      <td>Wizards of the Coast Employee breaks silence, ...</td>\n",
       "      <td>False</td>\n",
       "      <td>NaN</td>\n",
       "      <td>592</td>\n",
       "      <td>0.96</td>\n",
       "      <td>215</td>\n",
       "      <td>mtgfinance</td>\n",
       "      <td>2023-01-12</td>\n",
       "      <td>0</td>\n",
       "      <td>NaN</td>\n",
       "    </tr>\n",
       "    <tr>\n",
       "      <th>1000</th>\n",
       "      <td>10iiga3</td>\n",
       "      <td>Rudy buying cards...</td>\n",
       "      <td>False</td>\n",
       "      <td>NaN</td>\n",
       "      <td>440</td>\n",
       "      <td>0.85</td>\n",
       "      <td>321</td>\n",
       "      <td>mtgfinance</td>\n",
       "      <td>2023-01-22</td>\n",
       "      <td>1</td>\n",
       "      <td>redd</td>\n",
       "    </tr>\n",
       "    <tr>\n",
       "      <th>1001</th>\n",
       "      <td>10m32pz</td>\n",
       "      <td>Hasbro Warns of Weak Fourth Quarter Results an...</td>\n",
       "      <td>False</td>\n",
       "      <td>NaN</td>\n",
       "      <td>363</td>\n",
       "      <td>0.98</td>\n",
       "      <td>284</td>\n",
       "      <td>mtgfinance</td>\n",
       "      <td>2023-01-26</td>\n",
       "      <td>0</td>\n",
       "      <td>cnbc</td>\n",
       "    </tr>\n",
       "    <tr>\n",
       "      <th>1002</th>\n",
       "      <td>104l6lm</td>\n",
       "      <td>[ONE Leak] Allied fastland cycle reprinted in ...</td>\n",
       "      <td>False</td>\n",
       "      <td>NaN</td>\n",
       "      <td>314</td>\n",
       "      <td>0.96</td>\n",
       "      <td>68</td>\n",
       "      <td>mtgfinance</td>\n",
       "      <td>2023-01-06</td>\n",
       "      <td>1</td>\n",
       "      <td>imgur</td>\n",
       "    </tr>\n",
       "    <tr>\n",
       "      <th>1003</th>\n",
       "      <td>102gso0</td>\n",
       "      <td>Market Movements 01/03/23 - Klauth's Will, Cal...</td>\n",
       "      <td>True</td>\n",
       "      <td>The new year is starting off with a bang becau...</td>\n",
       "      <td>242</td>\n",
       "      <td>0.97</td>\n",
       "      <td>59</td>\n",
       "      <td>mtgfinance</td>\n",
       "      <td>2023-01-03</td>\n",
       "      <td>0</td>\n",
       "      <td>reddit</td>\n",
       "    </tr>\n",
       "  </tbody>\n",
       "</table>\n",
       "</div>"
      ],
      "text/plain": [
       "     submission_id                                              title  \\\n",
       "999        10abeeg  Wizards of the Coast Employee breaks silence, ...   \n",
       "1000       10iiga3                               Rudy buying cards...   \n",
       "1001       10m32pz  Hasbro Warns of Weak Fourth Quarter Results an...   \n",
       "1002       104l6lm  [ONE Leak] Allied fastland cycle reprinted in ...   \n",
       "1003       102gso0  Market Movements 01/03/23 - Klauth's Will, Cal...   \n",
       "\n",
       "      is_self                                           selftext  ups  \\\n",
       "999     False                                                NaN  592   \n",
       "1000    False                                                NaN  440   \n",
       "1001    False                                                NaN  363   \n",
       "1002    False                                                NaN  314   \n",
       "1003     True  The new year is starting off with a bang becau...  242   \n",
       "\n",
       "      upvote_ratio  num_comments   subreddit        date  image  domain  \n",
       "999           0.96           215  mtgfinance  2023-01-12      0     NaN  \n",
       "1000          0.85           321  mtgfinance  2023-01-22      1    redd  \n",
       "1001          0.98           284  mtgfinance  2023-01-26      0    cnbc  \n",
       "1002          0.96            68  mtgfinance  2023-01-06      1   imgur  \n",
       "1003          0.97            59  mtgfinance  2023-01-03      0  reddit  "
      ]
     },
     "execution_count": 8,
     "metadata": {},
     "output_type": "execute_result"
    }
   ],
   "source": [
    "finance.head()"
   ]
  },
  {
   "cell_type": "code",
   "execution_count": 10,
   "metadata": {},
   "outputs": [
    {
     "name": "stdout",
     "output_type": "stream",
     "text": [
      "Topic #0: phyrexia, did, weekly, like, wa, battle, week, list, 01, fellow \n",
      "\n",
      "Topic #1: onc, mtg, questions, opponent, related, guide, daily, playing, artist, related questions \n",
      "\n",
      "Topic #2: preview, spoiler, phyrexians, question, ha, oil, people, use, card, does \n",
      "\n",
      "Topic #3: alter, set, game, year, sld, creature, magic, art, mtg, compleat \n",
      "\n",
      "Topic #4: art, commander, deck, new, dominus, booster, box, myr, magic story, player \n",
      "\n",
      "Topic #5: leak, maro, white, doe, gallery, image, help, standard, card, cube \n",
      "\n",
      "Topic #6: phyrexian, story, just, play, jace, time, secret, nahiri, card, looking \n",
      "\n",
      "Topic #7: weeklymtg, compleated, guy, dominaria, atraxa, remastered, dominaria remastered, draft, think, theory \n",
      "\n",
      "Topic #8: card, magic, deck, planeswalkers, planeswalker, token, mark, best, collection, 2022 \n",
      "\n",
      "\n"
     ]
    }
   ],
   "source": [
    "# print top terms for each topic resulting from the LDA model\n",
    "text_analysis.process_text(magicTCG.title,\n",
    "                           min_df=6,\n",
    "                           n_components=9,\n",
    "                           n_top_words=10)"
   ]
  },
  {
   "cell_type": "code",
   "execution_count": null,
   "metadata": {},
   "outputs": [],
   "source": []
  }
 ],
 "metadata": {
  "kernelspec": {
   "display_name": "base",
   "language": "python",
   "name": "python3"
  },
  "language_info": {
   "codemirror_mode": {
    "name": "ipython",
    "version": 3
   },
   "file_extension": ".py",
   "mimetype": "text/x-python",
   "name": "python",
   "nbconvert_exporter": "python",
   "pygments_lexer": "ipython3",
   "version": "3.8.8"
  },
  "orig_nbformat": 4,
  "vscode": {
   "interpreter": {
    "hash": "40d3a090f54c6569ab1632332b64b2c03c39dcf918b08424e98f38b5ae0af88f"
   }
  }
 },
 "nbformat": 4,
 "nbformat_minor": 2
}
