{
 "cells": [
  {
   "attachments": {},
   "cell_type": "markdown",
   "metadata": {},
   "source": [
    "## Process Sealed Products\n",
    "This notebook takes a folder of raw CSVs downloaded from MTGGoldfish and transforms the date/price data into a dataframe with other datapoints such as the set, type of product, and release date of the product.\n",
    "Assumes the existence of \"file_names.txt\" which was made through a simple ls bash command at the terminal beforehand."
   ]
  },
  {
   "cell_type": "code",
   "execution_count": 1,
   "metadata": {},
   "outputs": [],
   "source": [
    "import pandas as pd"
   ]
  },
  {
   "cell_type": "code",
   "execution_count": 2,
   "metadata": {},
   "outputs": [],
   "source": [
    "# define the type of boxes\n",
    "box_list = ['Draft', \"Collector\", \"Set\"]\n",
    "\n",
    "# dictionary of symbol and release date for matching\n",
    "release_dates = {'RNA':'2019-01-25',\n",
    "                'WAR':'2019-05-03 ',\n",
    "                'ELD':'2019-10-04',\n",
    "                'THB':'2020-01-24',\n",
    "                'IKO':'2020-05-15',\n",
    "                'ZNR':'2020-09-25',\n",
    "                'KHM':'2021-02-05',\n",
    "                'STX':'2021-04-23',\n",
    "                'AFR':'2021-07-23',\n",
    "                'MID':'2021-09-24',\n",
    "                'VOW':'2021-11-19',\n",
    "                'NEO':'2022-02-18',\n",
    "                'SNC':'2022-04-29',\n",
    "                'DMU':'2022-09-09',\n",
    "                'BRO':'2022-11-18',\n",
    "                'MH1':'2019-06-14',\n",
    "                'MH2':'2021-06-18',\n",
    "                'TSR':'2021-03-19',\n",
    "                '2XM':'2020-08-07',\n",
    "                '2X2':'2022-07-08',\n",
    "                'M20':'2019-07-12',\n",
    "                'M21':'2020-07-03',\n",
    "                'CMR':'2020-11-20',\n",
    "                'CLB':'2022-06-10',\n",
    "                'JMP':'2020-07-17',\n",
    "                'UNF':'2022-10-07'}"
   ]
  },
  {
   "cell_type": "code",
   "execution_count": 3,
   "metadata": {},
   "outputs": [],
   "source": [
    "\n",
    "# set file path from analytics folder\n",
    "path = \"../_data/mtg_sealed/\"\n",
    "\n",
    "# append results to list to concatenate\n",
    "output_list = []\n",
    "\n",
    "# open the list of file names\n",
    "with open(path+\"file_names.txt\") as file:\n",
    "\n",
    "    # for each csv file name in the list\n",
    "    for line in file:\n",
    "\n",
    "        # get rid of the character break\n",
    "        line = line[:-1]\n",
    "\n",
    "        # store symbol out of [SYM].csv\n",
    "        symbol = line[-8:-5]\n",
    "\n",
    "        # read the csv without header, add column names\n",
    "        temp_df = pd.read_csv(path+line, header=None, names=['date','price'])\n",
    "\n",
    "        # set symbol colum, then get release date with string\n",
    "        temp_df['symbol'] = symbol\n",
    "        temp_df['release_date'] = release_dates.get(symbol) \n",
    "\n",
    "        # store the type of box based on CSV name, default to Booster, update if more specific\n",
    "        temp_df['box_type'] = \"Booster\"\n",
    "        for type in box_list:\n",
    "            if type in line:\n",
    "                temp_df['box_type'] = type\n",
    "\n",
    "        # store output        \n",
    "        output_list.append(temp_df)"
   ]
  },
  {
   "cell_type": "code",
   "execution_count": 11,
   "metadata": {},
   "outputs": [
    {
     "data": {
      "text/html": [
       "<div>\n",
       "<style scoped>\n",
       "    .dataframe tbody tr th:only-of-type {\n",
       "        vertical-align: middle;\n",
       "    }\n",
       "\n",
       "    .dataframe tbody tr th {\n",
       "        vertical-align: top;\n",
       "    }\n",
       "\n",
       "    .dataframe thead th {\n",
       "        text-align: right;\n",
       "    }\n",
       "</style>\n",
       "<table border=\"1\" class=\"dataframe\">\n",
       "  <thead>\n",
       "    <tr style=\"text-align: right;\">\n",
       "      <th></th>\n",
       "      <th>date</th>\n",
       "      <th>price</th>\n",
       "      <th>symbol</th>\n",
       "      <th>release_date</th>\n",
       "      <th>box_type</th>\n",
       "    </tr>\n",
       "  </thead>\n",
       "  <tbody>\n",
       "    <tr>\n",
       "      <th>12554</th>\n",
       "      <td>2023-01-07</td>\n",
       "      <td>124.99</td>\n",
       "      <td>VOW</td>\n",
       "      <td>2021-11-19</td>\n",
       "      <td>Set</td>\n",
       "    </tr>\n",
       "    <tr>\n",
       "      <th>24772</th>\n",
       "      <td>2022-10-01</td>\n",
       "      <td>249.99</td>\n",
       "      <td>STX</td>\n",
       "      <td>2021-04-23</td>\n",
       "      <td>Collector</td>\n",
       "    </tr>\n",
       "    <tr>\n",
       "      <th>31289</th>\n",
       "      <td>2023-02-07</td>\n",
       "      <td>110.25</td>\n",
       "      <td>UNF</td>\n",
       "      <td>2022-10-07</td>\n",
       "      <td>Draft</td>\n",
       "    </tr>\n",
       "    <tr>\n",
       "      <th>338</th>\n",
       "      <td>2022-04-16</td>\n",
       "      <td>211.99</td>\n",
       "      <td>AFR</td>\n",
       "      <td>2021-07-23</td>\n",
       "      <td>Collector</td>\n",
       "    </tr>\n",
       "    <tr>\n",
       "      <th>19485</th>\n",
       "      <td>2022-05-29</td>\n",
       "      <td>239.99</td>\n",
       "      <td>MH2</td>\n",
       "      <td>2021-06-18</td>\n",
       "      <td>Draft</td>\n",
       "    </tr>\n",
       "  </tbody>\n",
       "</table>\n",
       "</div>"
      ],
      "text/plain": [
       "             date   price symbol release_date   box_type\n",
       "12554  2023-01-07  124.99    VOW   2021-11-19        Set\n",
       "24772  2022-10-01  249.99    STX   2021-04-23  Collector\n",
       "31289  2023-02-07  110.25    UNF   2022-10-07      Draft\n",
       "338    2022-04-16  211.99    AFR   2021-07-23  Collector\n",
       "19485  2022-05-29  239.99    MH2   2021-06-18      Draft"
      ]
     },
     "execution_count": 11,
     "metadata": {},
     "output_type": "execute_result"
    }
   ],
   "source": [
    "output_df = pd.concat(output_list, ignore_index=True)\n",
    "output_df.sample(5)"
   ]
  },
  {
   "cell_type": "code",
   "execution_count": 12,
   "metadata": {},
   "outputs": [],
   "source": [
    "output_df.to_csv(\"../_data/sealed_output.csv\", index=False)"
   ]
  }
 ],
 "metadata": {
  "kernelspec": {
   "display_name": "base",
   "language": "python",
   "name": "python3"
  },
  "language_info": {
   "codemirror_mode": {
    "name": "ipython",
    "version": 3
   },
   "file_extension": ".py",
   "mimetype": "text/x-python",
   "name": "python",
   "nbconvert_exporter": "python",
   "pygments_lexer": "ipython3",
   "version": "3.8.8"
  },
  "orig_nbformat": 4,
  "vscode": {
   "interpreter": {
    "hash": "40d3a090f54c6569ab1632332b64b2c03c39dcf918b08424e98f38b5ae0af88f"
   }
  }
 },
 "nbformat": 4,
 "nbformat_minor": 2
}
