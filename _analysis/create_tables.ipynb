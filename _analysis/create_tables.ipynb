{
 "cells": [
  {
   "cell_type": "code",
   "execution_count": 1,
   "metadata": {},
   "outputs": [
    {
     "name": "stdout",
     "output_type": "stream",
     "text": [
      "/Users/prcork/Georgetown/Spring2023/TimeSeries/ANLY560_website\n"
     ]
    }
   ],
   "source": [
    "import pandas as pd\n",
    "import sqlite3\n",
    "\n",
    "# Path hack\n",
    "import os\n",
    "# change directory from the current Analysis folder to the top level folder for easier navigation\n",
    "os.chdir('../')\n",
    "# confirm we're one level up\n",
    "print(os.getcwd())"
   ]
  },
  {
   "cell_type": "markdown",
   "metadata": {},
   "source": [
    "## Create Tables"
   ]
  },
  {
   "cell_type": "code",
   "execution_count": 2,
   "metadata": {},
   "outputs": [],
   "source": [
    "with sqlite3.connect(\"_data/magic_reddit.db\") as conn:\n",
    "    c = conn.cursor()\n",
    "\n",
    "    submissions = \"\"\" CREATE TABLE IF NOT EXISTS submissions (\n",
    "                                        submission_id string PRIMARY KEY,\n",
    "                                        title text NOT NULL,\n",
    "                                        date text,\n",
    "                                        is_self text,\n",
    "                                        selftext text,\t\n",
    "                                        ups\tinteger,\n",
    "                                        upvote_ratio float,\t\n",
    "                                        num_comments integer,\t\n",
    "                                        subreddit text,\t\n",
    "                                        image text,\t\n",
    "                                        domain text\n",
    "                                    ); \"\"\"\n",
    "\n",
    "    comments = \"\"\" CREATE TABLE IF NOT EXISTS comments (\n",
    "                                        comment_id string PRIMARY KEY,\n",
    "                                        submission_id string NOT NULL,\n",
    "                                        author text,\n",
    "                                        body text NOT NULL,\n",
    "                                        upvotes integer,\n",
    "                                        utc_time float,\n",
    "                                        author_flair text,\n",
    "                                        FOREIGN KEY(submission_id) REFERENCES gamethreads(submission_id)\n",
    "                                    );\"\"\"\n",
    "\n",
    "    c.execute(submissions)\n",
    "    c.execute(comments)"
   ]
  }
 ],
 "metadata": {
  "kernelspec": {
   "display_name": "Python 3.8.8 ('base')",
   "language": "python",
   "name": "python3"
  },
  "language_info": {
   "codemirror_mode": {
    "name": "ipython",
    "version": 3
   },
   "file_extension": ".py",
   "mimetype": "text/x-python",
   "name": "python",
   "nbconvert_exporter": "python",
   "pygments_lexer": "ipython3",
   "version": "3.8.8"
  },
  "orig_nbformat": 4,
  "vscode": {
   "interpreter": {
    "hash": "40d3a090f54c6569ab1632332b64b2c03c39dcf918b08424e98f38b5ae0af88f"
   }
  }
 },
 "nbformat": 4,
 "nbformat_minor": 2
}
