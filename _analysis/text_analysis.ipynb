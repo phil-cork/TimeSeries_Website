{
 "cells": [
  {
   "cell_type": "code",
   "execution_count": 1,
   "metadata": {},
   "outputs": [
    {
     "name": "stdout",
     "output_type": "stream",
     "text": [
      "/Users/prcork/Georgetown/Spring2023/TimeSeries/ANLY560_website\n"
     ]
    }
   ],
   "source": [
    "import pandas as pd\n",
    "import textblob\n",
    "import sqlite3\n",
    "import numpy as np\n",
    "\n",
    "# Path hack\n",
    "import os\n",
    "# change directory from the current Analysis folder to the top level folder for easier navigation\n",
    "os.chdir('../')\n",
    "# confirm we're at top level folder\n",
    "print(os.getcwd())\n",
    "\n",
    "# note that the %load_ext autoreload line only needs to be be run once\n",
    "%load_ext autoreload"
   ]
  },
  {
   "cell_type": "code",
   "execution_count": 2,
   "metadata": {},
   "outputs": [
    {
     "name": "stderr",
     "output_type": "stream",
     "text": [
      "Version 7.6.0 of praw is outdated. Version 7.6.1 was released Friday November 11, 2022.\n"
     ]
    }
   ],
   "source": [
    "# import text analysis functions\n",
    "%autoreload\n",
    "from _functions import get_reddit_data, text_analysis"
   ]
  },
  {
   "cell_type": "code",
   "execution_count": 3,
   "metadata": {},
   "outputs": [
    {
     "name": "stdout",
     "output_type": "stream",
     "text": [
      "Total Submissions: 2000\n",
      "Total Comments: 412214\n"
     ]
    }
   ],
   "source": [
    "with sqlite3.connect(\"_data/magic_reddit.db\") as conn:\n",
    "\n",
    "    submissions = pd.read_sql_query(\"SELECT * FROM submissions\", conn)\n",
    "    print(\"Total Submissions: \" + str(len(submissions)))\n",
    "\n",
    "    comments = pd.read_sql_query(\"SELECT * FROM comments\", conn)\n",
    "    print(\"Total Comments: \" + str(len(comments)))"
   ]
  },
  {
   "cell_type": "code",
   "execution_count": 4,
   "metadata": {},
   "outputs": [],
   "source": [
    "# get textblob subjectivity and polarity\n",
    "submissions = text_analysis.get_sentiment(submissions, 'title')\n",
    "comments = text_analysis.get_sentiment(comments, 'body')"
   ]
  },
  {
   "cell_type": "code",
   "execution_count": 5,
   "metadata": {},
   "outputs": [],
   "source": [
    "# process dates\n",
    "\n",
    "comments['date']=pd.to_datetime(comments['utc_time'], unit='s').apply(lambda x: x.date())\n",
    "comments.date = pd.to_datetime(comments.date)\n",
    "\n",
    "submissions.date = pd.to_datetime(submissions.date)"
   ]
  },
  {
   "cell_type": "code",
   "execution_count": 6,
   "metadata": {},
   "outputs": [],
   "source": [
    "# split into separate dfs for updating comments\n",
    "\n",
    "finance = submissions.query(\"subreddit=='mtgfinance'\").copy()\n",
    "mtg = submissions.query(\"subreddit=='magicTCG'\").copy()"
   ]
  },
  {
   "cell_type": "code",
   "execution_count": 7,
   "metadata": {},
   "outputs": [],
   "source": [
    "comments[\"subreddit\"] = np.where(comments[\"submission_id\"].isin(finance.submission_id.tolist()), \"mtgfinance\", \"magicTCG\")"
   ]
  },
  {
   "cell_type": "code",
   "execution_count": 14,
   "metadata": {},
   "outputs": [
    {
     "data": {
      "text/html": [
       "<div>\n",
       "<style scoped>\n",
       "    .dataframe tbody tr th:only-of-type {\n",
       "        vertical-align: middle;\n",
       "    }\n",
       "\n",
       "    .dataframe tbody tr th {\n",
       "        vertical-align: top;\n",
       "    }\n",
       "\n",
       "    .dataframe thead th {\n",
       "        text-align: right;\n",
       "    }\n",
       "</style>\n",
       "<table border=\"1\" class=\"dataframe\">\n",
       "  <thead>\n",
       "    <tr style=\"text-align: right;\">\n",
       "      <th></th>\n",
       "      <th>comment_id</th>\n",
       "      <th>submission_id</th>\n",
       "      <th>author</th>\n",
       "      <th>body</th>\n",
       "      <th>upvotes</th>\n",
       "      <th>utc_time</th>\n",
       "      <th>author_flair</th>\n",
       "      <th>lem</th>\n",
       "      <th>sub</th>\n",
       "      <th>pol</th>\n",
       "      <th>date</th>\n",
       "      <th>subreddit</th>\n",
       "    </tr>\n",
       "  </thead>\n",
       "  <tbody>\n",
       "    <tr>\n",
       "      <th>184435</th>\n",
       "      <td>iexob5e</td>\n",
       "      <td>vrgrph</td>\n",
       "      <td>Lord_Jaroh</td>\n",
       "      <td>There is a wide range in between a Chronicles-...</td>\n",
       "      <td>0</td>\n",
       "      <td>1.657024e+09</td>\n",
       "      <td>None</td>\n",
       "      <td>There is a wide range in between a Chronicles-...</td>\n",
       "      <td>0.450000</td>\n",
       "      <td>0.10000</td>\n",
       "      <td>2022-07-05</td>\n",
       "      <td>magicTCG</td>\n",
       "    </tr>\n",
       "    <tr>\n",
       "      <th>161175</th>\n",
       "      <td>icjcobv</td>\n",
       "      <td>vdavbl</td>\n",
       "      <td>Oberon_Swanson</td>\n",
       "      <td>I can't remember a full set tanking this hard....</td>\n",
       "      <td>21</td>\n",
       "      <td>1.655348e+09</td>\n",
       "      <td>None</td>\n",
       "      <td>I ca n't remember a full set tanking this hard...</td>\n",
       "      <td>0.412879</td>\n",
       "      <td>0.02803</td>\n",
       "      <td>2022-06-16</td>\n",
       "      <td>mtgfinance</td>\n",
       "    </tr>\n",
       "    <tr>\n",
       "      <th>373793</th>\n",
       "      <td>ixcjtzh</td>\n",
       "      <td>z1rrrl</td>\n",
       "      <td>MTGCardFetcher</td>\n",
       "      <td>\\n[Izoni, Thousand-Eyed](https://cards.scryf...</td>\n",
       "      <td>7</td>\n",
       "      <td>1.669121e+09</td>\n",
       "      <td>Phyrexian</td>\n",
       "      <td>Izoni Thousand-Eyed http cards.scryfall.io/nor...</td>\n",
       "      <td>0.000000</td>\n",
       "      <td>0.00000</td>\n",
       "      <td>2022-11-22</td>\n",
       "      <td>magicTCG</td>\n",
       "    </tr>\n",
       "  </tbody>\n",
       "</table>\n",
       "</div>"
      ],
      "text/plain": [
       "       comment_id submission_id          author  \\\n",
       "184435    iexob5e        vrgrph      Lord_Jaroh   \n",
       "161175    icjcobv        vdavbl  Oberon_Swanson   \n",
       "373793    ixcjtzh        z1rrrl  MTGCardFetcher   \n",
       "\n",
       "                                                     body  upvotes  \\\n",
       "184435  There is a wide range in between a Chronicles-...        0   \n",
       "161175  I can't remember a full set tanking this hard....       21   \n",
       "373793    \\n[Izoni, Thousand-Eyed](https://cards.scryf...        7   \n",
       "\n",
       "            utc_time author_flair  \\\n",
       "184435  1.657024e+09         None   \n",
       "161175  1.655348e+09         None   \n",
       "373793  1.669121e+09    Phyrexian   \n",
       "\n",
       "                                                      lem       sub      pol  \\\n",
       "184435  There is a wide range in between a Chronicles-...  0.450000  0.10000   \n",
       "161175  I ca n't remember a full set tanking this hard...  0.412879  0.02803   \n",
       "373793  Izoni Thousand-Eyed http cards.scryfall.io/nor...  0.000000  0.00000   \n",
       "\n",
       "             date   subreddit  \n",
       "184435 2022-07-05    magicTCG  \n",
       "161175 2022-06-16  mtgfinance  \n",
       "373793 2022-11-22    magicTCG  "
      ]
     },
     "execution_count": 14,
     "metadata": {},
     "output_type": "execute_result"
    }
   ],
   "source": [
    "comments.sample(3)"
   ]
  },
  {
   "cell_type": "code",
   "execution_count": 8,
   "metadata": {},
   "outputs": [],
   "source": [
    "# group by date and take average\n",
    "\n",
    "time_subs = submissions.groupby(['date']).mean()\n",
    "time_subs.reset_index(inplace=True)\n",
    "\n",
    "time_comments = comments.groupby('date').mean()\n",
    "time_comments.reset_index(inplace=True)\n",
    "\n",
    "time_finance = finance.groupby('date').mean()\n",
    "time_finance.reset_index(inplace=True)\n",
    "\n",
    "time_mtg = mtg.groupby('date').mean()\n",
    "time_mtg.reset_index(inplace=True)\n",
    "\n",
    "time_comments_f = comments.query(\"subreddit=='mtgfinance'\").copy().groupby('date').mean()\n",
    "time_comments_f.reset_index(inplace=True)\n",
    "time_comments_m = comments.query(\"subreddit=='magicTCG'\").copy().groupby('date').mean()\n",
    "time_comments_m.reset_index(inplace=True)"
   ]
  },
  {
   "cell_type": "code",
   "execution_count": 13,
   "metadata": {},
   "outputs": [
    {
     "data": {
      "text/html": [
       "<div>\n",
       "<style scoped>\n",
       "    .dataframe tbody tr th:only-of-type {\n",
       "        vertical-align: middle;\n",
       "    }\n",
       "\n",
       "    .dataframe tbody tr th {\n",
       "        vertical-align: top;\n",
       "    }\n",
       "\n",
       "    .dataframe thead th {\n",
       "        text-align: right;\n",
       "    }\n",
       "</style>\n",
       "<table border=\"1\" class=\"dataframe\">\n",
       "  <thead>\n",
       "    <tr style=\"text-align: right;\">\n",
       "      <th></th>\n",
       "      <th>date</th>\n",
       "      <th>upvotes</th>\n",
       "      <th>utc_time</th>\n",
       "      <th>sub</th>\n",
       "      <th>pol</th>\n",
       "    </tr>\n",
       "  </thead>\n",
       "  <tbody>\n",
       "    <tr>\n",
       "      <th>0</th>\n",
       "      <td>2022-02-12</td>\n",
       "      <td>6.0</td>\n",
       "      <td>1.644688e+09</td>\n",
       "      <td>0.338828</td>\n",
       "      <td>0.032449</td>\n",
       "    </tr>\n",
       "    <tr>\n",
       "      <th>1</th>\n",
       "      <td>2022-02-13</td>\n",
       "      <td>2.0</td>\n",
       "      <td>1.644781e+09</td>\n",
       "      <td>0.500000</td>\n",
       "      <td>0.000000</td>\n",
       "    </tr>\n",
       "    <tr>\n",
       "      <th>2</th>\n",
       "      <td>2022-02-14</td>\n",
       "      <td>3.0</td>\n",
       "      <td>1.644864e+09</td>\n",
       "      <td>0.443750</td>\n",
       "      <td>0.000000</td>\n",
       "    </tr>\n",
       "    <tr>\n",
       "      <th>3</th>\n",
       "      <td>2022-02-15</td>\n",
       "      <td>2.0</td>\n",
       "      <td>1.644944e+09</td>\n",
       "      <td>0.433571</td>\n",
       "      <td>0.000000</td>\n",
       "    </tr>\n",
       "    <tr>\n",
       "      <th>4</th>\n",
       "      <td>2022-02-16</td>\n",
       "      <td>2.0</td>\n",
       "      <td>1.645031e+09</td>\n",
       "      <td>0.445437</td>\n",
       "      <td>0.000000</td>\n",
       "    </tr>\n",
       "    <tr>\n",
       "      <th>...</th>\n",
       "      <td>...</td>\n",
       "      <td>...</td>\n",
       "      <td>...</td>\n",
       "      <td>...</td>\n",
       "      <td>...</td>\n",
       "    </tr>\n",
       "    <tr>\n",
       "      <th>361</th>\n",
       "      <td>2023-02-08</td>\n",
       "      <td>2.0</td>\n",
       "      <td>1.675874e+09</td>\n",
       "      <td>0.471958</td>\n",
       "      <td>0.049028</td>\n",
       "    </tr>\n",
       "    <tr>\n",
       "      <th>362</th>\n",
       "      <td>2023-02-09</td>\n",
       "      <td>2.0</td>\n",
       "      <td>1.675965e+09</td>\n",
       "      <td>0.457143</td>\n",
       "      <td>0.032619</td>\n",
       "    </tr>\n",
       "    <tr>\n",
       "      <th>363</th>\n",
       "      <td>2023-02-10</td>\n",
       "      <td>2.0</td>\n",
       "      <td>1.676038e+09</td>\n",
       "      <td>0.475000</td>\n",
       "      <td>0.021605</td>\n",
       "    </tr>\n",
       "    <tr>\n",
       "      <th>364</th>\n",
       "      <td>2023-02-11</td>\n",
       "      <td>2.0</td>\n",
       "      <td>1.676123e+09</td>\n",
       "      <td>0.405357</td>\n",
       "      <td>0.000000</td>\n",
       "    </tr>\n",
       "    <tr>\n",
       "      <th>365</th>\n",
       "      <td>2023-02-12</td>\n",
       "      <td>1.0</td>\n",
       "      <td>1.676178e+09</td>\n",
       "      <td>0.477806</td>\n",
       "      <td>0.005556</td>\n",
       "    </tr>\n",
       "  </tbody>\n",
       "</table>\n",
       "<p>366 rows × 5 columns</p>\n",
       "</div>"
      ],
      "text/plain": [
       "          date  upvotes      utc_time       sub       pol\n",
       "0   2022-02-12      6.0  1.644688e+09  0.338828  0.032449\n",
       "1   2022-02-13      2.0  1.644781e+09  0.500000  0.000000\n",
       "2   2022-02-14      3.0  1.644864e+09  0.443750  0.000000\n",
       "3   2022-02-15      2.0  1.644944e+09  0.433571  0.000000\n",
       "4   2022-02-16      2.0  1.645031e+09  0.445437  0.000000\n",
       "..         ...      ...           ...       ...       ...\n",
       "361 2023-02-08      2.0  1.675874e+09  0.471958  0.049028\n",
       "362 2023-02-09      2.0  1.675965e+09  0.457143  0.032619\n",
       "363 2023-02-10      2.0  1.676038e+09  0.475000  0.021605\n",
       "364 2023-02-11      2.0  1.676123e+09  0.405357  0.000000\n",
       "365 2023-02-12      1.0  1.676178e+09  0.477806  0.005556\n",
       "\n",
       "[366 rows x 5 columns]"
      ]
     },
     "execution_count": 13,
     "metadata": {},
     "output_type": "execute_result"
    }
   ],
   "source": [
    "time_comments_f['subreddit'] = 'mtgfinance'\n",
    "time_comments_m['subreddit'] = 'magictcg'\n",
    "time_comments "
   ]
  },
  {
   "cell_type": "code",
   "execution_count": 9,
   "metadata": {},
   "outputs": [
    {
     "data": {
      "text/plain": [
       "<AxesSubplot:>"
      ]
     },
     "execution_count": 9,
     "metadata": {},
     "output_type": "execute_result"
    },
    {
     "data": {
      "image/png": "[encoded data removed]",
      "text/plain": [
       "<Figure size 432x288 with 1 Axes>"
      ]
     },
     "metadata": {
      "needs_background": "light"
     },
     "output_type": "display_data"
    }
   ],
   "source": [
    "time_finance['pol'].plot()\n",
    "time_mtg['pol'].plot()"
   ]
  },
  {
   "cell_type": "code",
   "execution_count": 10,
   "metadata": {},
   "outputs": [
    {
     "data": {
      "text/plain": [
       "<AxesSubplot:>"
      ]
     },
     "execution_count": 10,
     "metadata": {},
     "output_type": "execute_result"
    },
    {
     "data": {
      "image/png": "[encoded data removed]",
      "text/plain": [
       "<Figure size 432x288 with 1 Axes>"
      ]
     },
     "metadata": {
      "needs_background": "light"
     },
     "output_type": "display_data"
    }
   ],
   "source": [
    "time_subs['pol'].plot()\n",
    "time_comments['pol'].plot()"
   ]
  },
  {
   "cell_type": "code",
   "execution_count": 11,
   "metadata": {},
   "outputs": [
    {
     "data": {
      "text/plain": [
       "<AxesSubplot:>"
      ]
     },
     "execution_count": 11,
     "metadata": {},
     "output_type": "execute_result"
    },
    {
     "data": {
      "image/png": "[encoded data removed]",
      "text/plain": [
       "<Figure size 432x288 with 1 Axes>"
      ]
     },
     "metadata": {
      "needs_background": "light"
     },
     "output_type": "display_data"
    }
   ],
   "source": [
    "time_subs['sub'].plot()\n",
    "time_comments['sub'].plot()"
   ]
  },
  {
   "attachments": {},
   "cell_type": "markdown",
   "metadata": {},
   "source": [
    "## Vader"
   ]
  },
  {
   "cell_type": "code",
   "execution_count": 16,
   "metadata": {},
   "outputs": [],
   "source": [
    "from vaderSentiment.vaderSentiment import SentimentIntensityAnalyzer\n",
    "analyzer = SentimentIntensityAnalyzer()\n",
    "\n",
    "submissions['vs'] = [analyzer.polarity_scores(sentence) for sentence in submissions['title']]"
   ]
  },
  {
   "cell_type": "code",
   "execution_count": 22,
   "metadata": {},
   "outputs": [],
   "source": [
    "submissions['vs_neg'] = [dict.get('neg') for dict in submissions['vs']]\n",
    "submissions['vs_pos'] = [dict.get('pos') for dict in submissions['vs']]\n",
    "submissions['vs_neu'] = [dict.get('neu') for dict in submissions['vs']]\n",
    "submissions['vs_com'] = [dict.get('compound') for dict in submissions['vs']]"
   ]
  },
  {
   "cell_type": "code",
   "execution_count": 29,
   "metadata": {},
   "outputs": [
    {
     "data": {
      "text/html": [
       "<div>\n",
       "<style scoped>\n",
       "    .dataframe tbody tr th:only-of-type {\n",
       "        vertical-align: middle;\n",
       "    }\n",
       "\n",
       "    .dataframe tbody tr th {\n",
       "        vertical-align: top;\n",
       "    }\n",
       "\n",
       "    .dataframe thead th {\n",
       "        text-align: right;\n",
       "    }\n",
       "</style>\n",
       "<table border=\"1\" class=\"dataframe\">\n",
       "  <thead>\n",
       "    <tr style=\"text-align: right;\">\n",
       "      <th></th>\n",
       "      <th>submission_id</th>\n",
       "      <th>title</th>\n",
       "      <th>date</th>\n",
       "      <th>is_self</th>\n",
       "      <th>selftext</th>\n",
       "      <th>ups</th>\n",
       "      <th>upvote_ratio</th>\n",
       "      <th>num_comments</th>\n",
       "      <th>subreddit</th>\n",
       "      <th>image</th>\n",
       "      <th>domain</th>\n",
       "      <th>lem</th>\n",
       "      <th>sub</th>\n",
       "      <th>pol</th>\n",
       "      <th>vs</th>\n",
       "      <th>vs_neg</th>\n",
       "      <th>vs_pos</th>\n",
       "      <th>vs_neu</th>\n",
       "      <th>vs_com</th>\n",
       "      <th>flair_pol</th>\n",
       "    </tr>\n",
       "  </thead>\n",
       "  <tbody>\n",
       "    <tr>\n",
       "      <th>1297</th>\n",
       "      <td>x1p646</td>\n",
       "      <td>Disney will launch a new card game to go up ag...</td>\n",
       "      <td>2022-08-30</td>\n",
       "      <td>0</td>\n",
       "      <td></td>\n",
       "      <td>171</td>\n",
       "      <td>0.88</td>\n",
       "      <td>244</td>\n",
       "      <td>mtgfinance</td>\n",
       "      <td>0</td>\n",
       "      <td>polygon</td>\n",
       "      <td>Disney will launch a new card game to go up ag...</td>\n",
       "      <td>0.618182</td>\n",
       "      <td>0.078788</td>\n",
       "      <td>{'neg': 0.0, 'neu': 1.0, 'pos': 0.0, 'compound...</td>\n",
       "      <td>0.000</td>\n",
       "      <td>0.000</td>\n",
       "      <td>1.000</td>\n",
       "      <td>0.0000</td>\n",
       "      <td>None</td>\n",
       "    </tr>\n",
       "    <tr>\n",
       "      <th>732</th>\n",
       "      <td>v29h4n</td>\n",
       "      <td>took a way better picture of this card than wh...</td>\n",
       "      <td>2022-06-01</td>\n",
       "      <td>0</td>\n",
       "      <td></td>\n",
       "      <td>1673</td>\n",
       "      <td>0.95</td>\n",
       "      <td>92</td>\n",
       "      <td>magicTCG</td>\n",
       "      <td>1</td>\n",
       "      <td>redd</td>\n",
       "      <td>took a way better picture of this card than wh...</td>\n",
       "      <td>0.450000</td>\n",
       "      <td>0.450000</td>\n",
       "      <td>{'neg': 0.0, 'neu': 0.805, 'pos': 0.195, 'comp...</td>\n",
       "      <td>0.000</td>\n",
       "      <td>0.195</td>\n",
       "      <td>0.805</td>\n",
       "      <td>0.4404</td>\n",
       "      <td>None</td>\n",
       "    </tr>\n",
       "    <tr>\n",
       "      <th>168</th>\n",
       "      <td>yy58an</td>\n",
       "      <td>I accidentally touched some weird oil I found....</td>\n",
       "      <td>2022-11-17</td>\n",
       "      <td>0</td>\n",
       "      <td></td>\n",
       "      <td>3121</td>\n",
       "      <td>0.94</td>\n",
       "      <td>116</td>\n",
       "      <td>magicTCG</td>\n",
       "      <td>1</td>\n",
       "      <td>redd</td>\n",
       "      <td>I accidentally touched some weird oil I found ...</td>\n",
       "      <td>1.000000</td>\n",
       "      <td>-0.500000</td>\n",
       "      <td>{'neg': 0.313, 'neu': 0.687, 'pos': 0.0, 'comp...</td>\n",
       "      <td>0.313</td>\n",
       "      <td>0.000</td>\n",
       "      <td>0.687</td>\n",
       "      <td>-0.4767</td>\n",
       "      <td>None</td>\n",
       "    </tr>\n",
       "    <tr>\n",
       "      <th>1492</th>\n",
       "      <td>zuz3tk</td>\n",
       "      <td>Merry Christmas to me, the only sealed stuff I...</td>\n",
       "      <td>2022-12-25</td>\n",
       "      <td>0</td>\n",
       "      <td></td>\n",
       "      <td>114</td>\n",
       "      <td>0.83</td>\n",
       "      <td>45</td>\n",
       "      <td>mtgfinance</td>\n",
       "      <td>0</td>\n",
       "      <td>imgur</td>\n",
       "      <td>Merry Christmas to me the only sealed stuff I ...</td>\n",
       "      <td>1.000000</td>\n",
       "      <td>0.000000</td>\n",
       "      <td>{'neg': 0.0, 'neu': 0.774, 'pos': 0.226, 'comp...</td>\n",
       "      <td>0.000</td>\n",
       "      <td>0.226</td>\n",
       "      <td>0.774</td>\n",
       "      <td>0.5423</td>\n",
       "      <td>None</td>\n",
       "    </tr>\n",
       "    <tr>\n",
       "      <th>44</th>\n",
       "      <td>suu2q2</td>\n",
       "      <td>[SLD] Basic Lands -Synthwave</td>\n",
       "      <td>2022-02-17</td>\n",
       "      <td>0</td>\n",
       "      <td></td>\n",
       "      <td>4539</td>\n",
       "      <td>0.98</td>\n",
       "      <td>419</td>\n",
       "      <td>magicTCG</td>\n",
       "      <td>1</td>\n",
       "      <td>redd</td>\n",
       "      <td>SLD Basic Lands Synthwave</td>\n",
       "      <td>0.125000</td>\n",
       "      <td>0.000000</td>\n",
       "      <td>{'neg': 0.0, 'neu': 1.0, 'pos': 0.0, 'compound...</td>\n",
       "      <td>0.000</td>\n",
       "      <td>0.000</td>\n",
       "      <td>1.000</td>\n",
       "      <td>0.0000</td>\n",
       "      <td>None</td>\n",
       "    </tr>\n",
       "    <tr>\n",
       "      <th>362</th>\n",
       "      <td>yge9z9</td>\n",
       "      <td>My friend only got to play a single game in al...</td>\n",
       "      <td>2022-10-29</td>\n",
       "      <td>0</td>\n",
       "      <td></td>\n",
       "      <td>2382</td>\n",
       "      <td>0.98</td>\n",
       "      <td>249</td>\n",
       "      <td>magicTCG</td>\n",
       "      <td>1</td>\n",
       "      <td>imgur</td>\n",
       "      <td>My friend only got to play a single game in al...</td>\n",
       "      <td>0.497321</td>\n",
       "      <td>-0.149107</td>\n",
       "      <td>{'neg': 0.089, 'neu': 0.685, 'pos': 0.226, 'co...</td>\n",
       "      <td>0.089</td>\n",
       "      <td>0.226</td>\n",
       "      <td>0.685</td>\n",
       "      <td>0.5267</td>\n",
       "      <td>None</td>\n",
       "    </tr>\n",
       "    <tr>\n",
       "      <th>1068</th>\n",
       "      <td>yyyi8o</td>\n",
       "      <td>Card Conjurer: The first victim of WOTC’s Prox...</td>\n",
       "      <td>2022-11-19</td>\n",
       "      <td>1</td>\n",
       "      <td>https://cardconjurer.com/\\n\\nAbove link, but t...</td>\n",
       "      <td>349</td>\n",
       "      <td>0.90</td>\n",
       "      <td>247</td>\n",
       "      <td>mtgfinance</td>\n",
       "      <td>0</td>\n",
       "      <td>reddit</td>\n",
       "      <td>Card Conjurer The first victim of WOTC ’ s Pro...</td>\n",
       "      <td>0.191667</td>\n",
       "      <td>0.087500</td>\n",
       "      <td>{'neg': 0.462, 'neu': 0.538, 'pos': 0.0, 'comp...</td>\n",
       "      <td>0.462</td>\n",
       "      <td>0.000</td>\n",
       "      <td>0.538</td>\n",
       "      <td>-0.7184</td>\n",
       "      <td>None</td>\n",
       "    </tr>\n",
       "    <tr>\n",
       "      <th>1051</th>\n",
       "      <td>vqj904</td>\n",
       "      <td>2X2 Collector Mythic Pull Rates</td>\n",
       "      <td>2022-07-03</td>\n",
       "      <td>1</td>\n",
       "      <td>After watching multiple cases worth of 2X2 col...</td>\n",
       "      <td>383</td>\n",
       "      <td>0.95</td>\n",
       "      <td>57</td>\n",
       "      <td>mtgfinance</td>\n",
       "      <td>0</td>\n",
       "      <td>reddit</td>\n",
       "      <td>2X2 Collector Mythic Pull Rates</td>\n",
       "      <td>0.000000</td>\n",
       "      <td>0.000000</td>\n",
       "      <td>{'neg': 0.0, 'neu': 1.0, 'pos': 0.0, 'compound...</td>\n",
       "      <td>0.000</td>\n",
       "      <td>0.000</td>\n",
       "      <td>1.000</td>\n",
       "      <td>0.0000</td>\n",
       "      <td>None</td>\n",
       "    </tr>\n",
       "    <tr>\n",
       "      <th>1988</th>\n",
       "      <td>u9duzb</td>\n",
       "      <td>SNC Call It Now</td>\n",
       "      <td>2022-04-22</td>\n",
       "      <td>1</td>\n",
       "      <td>Not trying to steal anyone’s super secret spec...</td>\n",
       "      <td>53</td>\n",
       "      <td>0.84</td>\n",
       "      <td>161</td>\n",
       "      <td>mtgfinance</td>\n",
       "      <td>0</td>\n",
       "      <td>reddit</td>\n",
       "      <td>SNC Call It Now</td>\n",
       "      <td>0.000000</td>\n",
       "      <td>0.000000</td>\n",
       "      <td>{'neg': 0.0, 'neu': 1.0, 'pos': 0.0, 'compound...</td>\n",
       "      <td>0.000</td>\n",
       "      <td>0.000</td>\n",
       "      <td>1.000</td>\n",
       "      <td>0.0000</td>\n",
       "      <td>None</td>\n",
       "    </tr>\n",
       "    <tr>\n",
       "      <th>604</th>\n",
       "      <td>urrlv1</td>\n",
       "      <td>[CLB] Monster Manual</td>\n",
       "      <td>2022-05-17</td>\n",
       "      <td>0</td>\n",
       "      <td></td>\n",
       "      <td>1857</td>\n",
       "      <td>0.99</td>\n",
       "      <td>242</td>\n",
       "      <td>magicTCG</td>\n",
       "      <td>1</td>\n",
       "      <td>redd</td>\n",
       "      <td>CLB Monster Manual</td>\n",
       "      <td>0.000000</td>\n",
       "      <td>0.000000</td>\n",
       "      <td>{'neg': 0.0, 'neu': 1.0, 'pos': 0.0, 'compound...</td>\n",
       "      <td>0.000</td>\n",
       "      <td>0.000</td>\n",
       "      <td>1.000</td>\n",
       "      <td>0.0000</td>\n",
       "      <td>None</td>\n",
       "    </tr>\n",
       "    <tr>\n",
       "      <th>707</th>\n",
       "      <td>u1syzw</td>\n",
       "      <td>[SNC] Refuse to Yield</td>\n",
       "      <td>2022-04-12</td>\n",
       "      <td>0</td>\n",
       "      <td></td>\n",
       "      <td>1711</td>\n",
       "      <td>0.99</td>\n",
       "      <td>179</td>\n",
       "      <td>magicTCG</td>\n",
       "      <td>1</td>\n",
       "      <td>redd</td>\n",
       "      <td>SNC Refuse to Yield</td>\n",
       "      <td>0.000000</td>\n",
       "      <td>0.000000</td>\n",
       "      <td>{'neg': 0.423, 'neu': 0.577, 'pos': 0.0, 'comp...</td>\n",
       "      <td>0.423</td>\n",
       "      <td>0.000</td>\n",
       "      <td>0.577</td>\n",
       "      <td>-0.2960</td>\n",
       "      <td>None</td>\n",
       "    </tr>\n",
       "    <tr>\n",
       "      <th>763</th>\n",
       "      <td>10b146b</td>\n",
       "      <td>[ONE] Nahiri, the Unforgiving</td>\n",
       "      <td>2023-01-13</td>\n",
       "      <td>1</td>\n",
       "      <td>&amp;#x200B;\\n\\n[https:\\/\\/twitter.com\\/wizards\\_m...</td>\n",
       "      <td>1637</td>\n",
       "      <td>0.98</td>\n",
       "      <td>574</td>\n",
       "      <td>magicTCG</td>\n",
       "      <td>0</td>\n",
       "      <td>reddit</td>\n",
       "      <td>ONE Nahiri the Unforgiving</td>\n",
       "      <td>0.000000</td>\n",
       "      <td>0.000000</td>\n",
       "      <td>{'neg': 0.0, 'neu': 1.0, 'pos': 0.0, 'compound...</td>\n",
       "      <td>0.000</td>\n",
       "      <td>0.000</td>\n",
       "      <td>1.000</td>\n",
       "      <td>0.0000</td>\n",
       "      <td>None</td>\n",
       "    </tr>\n",
       "    <tr>\n",
       "      <th>1792</th>\n",
       "      <td>vpofxd</td>\n",
       "      <td>Baldur's Gate Collector $159.99 +tax</td>\n",
       "      <td>2022-07-02</td>\n",
       "      <td>1</td>\n",
       "      <td>https://collectorstore.com/magic-the-gathering...</td>\n",
       "      <td>68</td>\n",
       "      <td>0.91</td>\n",
       "      <td>102</td>\n",
       "      <td>mtgfinance</td>\n",
       "      <td>0</td>\n",
       "      <td>reddit</td>\n",
       "      <td>Baldur 's Gate Collector 159.99 tax</td>\n",
       "      <td>0.000000</td>\n",
       "      <td>0.000000</td>\n",
       "      <td>{'neg': 0.0, 'neu': 1.0, 'pos': 0.0, 'compound...</td>\n",
       "      <td>0.000</td>\n",
       "      <td>0.000</td>\n",
       "      <td>1.000</td>\n",
       "      <td>0.0000</td>\n",
       "      <td>None</td>\n",
       "    </tr>\n",
       "    <tr>\n",
       "      <th>1900</th>\n",
       "      <td>u1z7nn</td>\n",
       "      <td>What cards that are very expensive right now y...</td>\n",
       "      <td>2022-04-12</td>\n",
       "      <td>1</td>\n",
       "      <td>For example, tarmogoyf dropped from 200$ to 20$</td>\n",
       "      <td>57</td>\n",
       "      <td>0.76</td>\n",
       "      <td>266</td>\n",
       "      <td>mtgfinance</td>\n",
       "      <td>0</td>\n",
       "      <td>reddit</td>\n",
       "      <td>What card that are very expensive right now yo...</td>\n",
       "      <td>0.571648</td>\n",
       "      <td>-0.147070</td>\n",
       "      <td>{'neg': 0.13, 'neu': 0.734, 'pos': 0.136, 'com...</td>\n",
       "      <td>0.130</td>\n",
       "      <td>0.136</td>\n",
       "      <td>0.734</td>\n",
       "      <td>0.0258</td>\n",
       "      <td>None</td>\n",
       "    </tr>\n",
       "    <tr>\n",
       "      <th>1234</th>\n",
       "      <td>tnsnfp</td>\n",
       "      <td>Terrible spec Friday!!</td>\n",
       "      <td>2022-03-25</td>\n",
       "      <td>0</td>\n",
       "      <td></td>\n",
       "      <td>195</td>\n",
       "      <td>0.90</td>\n",
       "      <td>72</td>\n",
       "      <td>mtgfinance</td>\n",
       "      <td>1</td>\n",
       "      <td>redd</td>\n",
       "      <td>Terrible spec Friday</td>\n",
       "      <td>1.000000</td>\n",
       "      <td>-1.000000</td>\n",
       "      <td>{'neg': 0.648, 'neu': 0.352, 'pos': 0.0, 'comp...</td>\n",
       "      <td>0.648</td>\n",
       "      <td>0.000</td>\n",
       "      <td>0.352</td>\n",
       "      <td>-0.5696</td>\n",
       "      <td>None</td>\n",
       "    </tr>\n",
       "  </tbody>\n",
       "</table>\n",
       "</div>"
      ],
      "text/plain": [
       "     submission_id                                              title  \\\n",
       "1297        x1p646  Disney will launch a new card game to go up ag...   \n",
       "732         v29h4n  took a way better picture of this card than wh...   \n",
       "168         yy58an  I accidentally touched some weird oil I found....   \n",
       "1492        zuz3tk  Merry Christmas to me, the only sealed stuff I...   \n",
       "44          suu2q2                       [SLD] Basic Lands -Synthwave   \n",
       "362         yge9z9  My friend only got to play a single game in al...   \n",
       "1068        yyyi8o  Card Conjurer: The first victim of WOTC’s Prox...   \n",
       "1051        vqj904                    2X2 Collector Mythic Pull Rates   \n",
       "1988        u9duzb                                    SNC Call It Now   \n",
       "604         urrlv1                               [CLB] Monster Manual   \n",
       "707         u1syzw                              [SNC] Refuse to Yield   \n",
       "763        10b146b                      [ONE] Nahiri, the Unforgiving   \n",
       "1792        vpofxd               Baldur's Gate Collector $159.99 +tax   \n",
       "1900        u1z7nn  What cards that are very expensive right now y...   \n",
       "1234        tnsnfp                             Terrible spec Friday!!   \n",
       "\n",
       "           date is_self                                           selftext  \\\n",
       "1297 2022-08-30       0                                                      \n",
       "732  2022-06-01       0                                                      \n",
       "168  2022-11-17       0                                                      \n",
       "1492 2022-12-25       0                                                      \n",
       "44   2022-02-17       0                                                      \n",
       "362  2022-10-29       0                                                      \n",
       "1068 2022-11-19       1  https://cardconjurer.com/\\n\\nAbove link, but t...   \n",
       "1051 2022-07-03       1  After watching multiple cases worth of 2X2 col...   \n",
       "1988 2022-04-22       1  Not trying to steal anyone’s super secret spec...   \n",
       "604  2022-05-17       0                                                      \n",
       "707  2022-04-12       0                                                      \n",
       "763  2023-01-13       1  &#x200B;\\n\\n[https:\\/\\/twitter.com\\/wizards\\_m...   \n",
       "1792 2022-07-02       1  https://collectorstore.com/magic-the-gathering...   \n",
       "1900 2022-04-12       1    For example, tarmogoyf dropped from 200$ to 20$   \n",
       "1234 2022-03-25       0                                                      \n",
       "\n",
       "       ups  upvote_ratio  num_comments   subreddit image   domain  \\\n",
       "1297   171          0.88           244  mtgfinance     0  polygon   \n",
       "732   1673          0.95            92    magicTCG     1     redd   \n",
       "168   3121          0.94           116    magicTCG     1     redd   \n",
       "1492   114          0.83            45  mtgfinance     0    imgur   \n",
       "44    4539          0.98           419    magicTCG     1     redd   \n",
       "362   2382          0.98           249    magicTCG     1    imgur   \n",
       "1068   349          0.90           247  mtgfinance     0   reddit   \n",
       "1051   383          0.95            57  mtgfinance     0   reddit   \n",
       "1988    53          0.84           161  mtgfinance     0   reddit   \n",
       "604   1857          0.99           242    magicTCG     1     redd   \n",
       "707   1711          0.99           179    magicTCG     1     redd   \n",
       "763   1637          0.98           574    magicTCG     0   reddit   \n",
       "1792    68          0.91           102  mtgfinance     0   reddit   \n",
       "1900    57          0.76           266  mtgfinance     0   reddit   \n",
       "1234   195          0.90            72  mtgfinance     1     redd   \n",
       "\n",
       "                                                    lem       sub       pol  \\\n",
       "1297  Disney will launch a new card game to go up ag...  0.618182  0.078788   \n",
       "732   took a way better picture of this card than wh...  0.450000  0.450000   \n",
       "168   I accidentally touched some weird oil I found ...  1.000000 -0.500000   \n",
       "1492  Merry Christmas to me the only sealed stuff I ...  1.000000  0.000000   \n",
       "44                            SLD Basic Lands Synthwave  0.125000  0.000000   \n",
       "362   My friend only got to play a single game in al...  0.497321 -0.149107   \n",
       "1068  Card Conjurer The first victim of WOTC ’ s Pro...  0.191667  0.087500   \n",
       "1051                    2X2 Collector Mythic Pull Rates  0.000000  0.000000   \n",
       "1988                                    SNC Call It Now  0.000000  0.000000   \n",
       "604                                  CLB Monster Manual  0.000000  0.000000   \n",
       "707                                 SNC Refuse to Yield  0.000000  0.000000   \n",
       "763                          ONE Nahiri the Unforgiving  0.000000  0.000000   \n",
       "1792                Baldur 's Gate Collector 159.99 tax  0.000000  0.000000   \n",
       "1900  What card that are very expensive right now yo...  0.571648 -0.147070   \n",
       "1234                               Terrible spec Friday  1.000000 -1.000000   \n",
       "\n",
       "                                                     vs  vs_neg  vs_pos  \\\n",
       "1297  {'neg': 0.0, 'neu': 1.0, 'pos': 0.0, 'compound...   0.000   0.000   \n",
       "732   {'neg': 0.0, 'neu': 0.805, 'pos': 0.195, 'comp...   0.000   0.195   \n",
       "168   {'neg': 0.313, 'neu': 0.687, 'pos': 0.0, 'comp...   0.313   0.000   \n",
       "1492  {'neg': 0.0, 'neu': 0.774, 'pos': 0.226, 'comp...   0.000   0.226   \n",
       "44    {'neg': 0.0, 'neu': 1.0, 'pos': 0.0, 'compound...   0.000   0.000   \n",
       "362   {'neg': 0.089, 'neu': 0.685, 'pos': 0.226, 'co...   0.089   0.226   \n",
       "1068  {'neg': 0.462, 'neu': 0.538, 'pos': 0.0, 'comp...   0.462   0.000   \n",
       "1051  {'neg': 0.0, 'neu': 1.0, 'pos': 0.0, 'compound...   0.000   0.000   \n",
       "1988  {'neg': 0.0, 'neu': 1.0, 'pos': 0.0, 'compound...   0.000   0.000   \n",
       "604   {'neg': 0.0, 'neu': 1.0, 'pos': 0.0, 'compound...   0.000   0.000   \n",
       "707   {'neg': 0.423, 'neu': 0.577, 'pos': 0.0, 'comp...   0.423   0.000   \n",
       "763   {'neg': 0.0, 'neu': 1.0, 'pos': 0.0, 'compound...   0.000   0.000   \n",
       "1792  {'neg': 0.0, 'neu': 1.0, 'pos': 0.0, 'compound...   0.000   0.000   \n",
       "1900  {'neg': 0.13, 'neu': 0.734, 'pos': 0.136, 'com...   0.130   0.136   \n",
       "1234  {'neg': 0.648, 'neu': 0.352, 'pos': 0.0, 'comp...   0.648   0.000   \n",
       "\n",
       "      vs_neu  vs_com flair_pol  \n",
       "1297   1.000  0.0000      None  \n",
       "732    0.805  0.4404      None  \n",
       "168    0.687 -0.4767      None  \n",
       "1492   0.774  0.5423      None  \n",
       "44     1.000  0.0000      None  \n",
       "362    0.685  0.5267      None  \n",
       "1068   0.538 -0.7184      None  \n",
       "1051   1.000  0.0000      None  \n",
       "1988   1.000  0.0000      None  \n",
       "604    1.000  0.0000      None  \n",
       "707    0.577 -0.2960      None  \n",
       "763    1.000  0.0000      None  \n",
       "1792   1.000  0.0000      None  \n",
       "1900   0.734  0.0258      None  \n",
       "1234   0.352 -0.5696      None  "
      ]
     },
     "execution_count": 29,
     "metadata": {},
     "output_type": "execute_result"
    }
   ],
   "source": [
    "submissions.sample(15)"
   ]
  },
  {
   "cell_type": "code",
   "execution_count": 25,
   "metadata": {},
   "outputs": [
    {
     "data": {
      "text/plain": [
       "<AxesSubplot:>"
      ]
     },
     "execution_count": 25,
     "metadata": {},
     "output_type": "execute_result"
    },
    {
     "data": {
      "image/png": "[encoded data removed]",
      "text/plain": [
       "<Figure size 432x288 with 1 Axes>"
      ]
     },
     "metadata": {
      "needs_background": "light"
     },
     "output_type": "display_data"
    }
   ],
   "source": [
    "submissions.vs_pos.hist()"
   ]
  },
  {
   "cell_type": "code",
   "execution_count": 30,
   "metadata": {},
   "outputs": [
    {
     "data": {
      "text/plain": [
       "<AxesSubplot:>"
      ]
     },
     "execution_count": 30,
     "metadata": {},
     "output_type": "execute_result"
    },
    {
     "data": {
      "image/png": "[encoded data removed]",
      "text/plain": [
       "<Figure size 432x288 with 1 Axes>"
      ]
     },
     "metadata": {
      "needs_background": "light"
     },
     "output_type": "display_data"
    }
   ],
   "source": [
    "submissions.vs_com.hist()"
   ]
  },
  {
   "cell_type": "code",
   "execution_count": 32,
   "metadata": {},
   "outputs": [
    {
     "data": {
      "text/plain": [
       "<AxesSubplot:>"
      ]
     },
     "execution_count": 32,
     "metadata": {},
     "output_type": "execute_result"
    },
    {
     "data": {
      "image/png": "[encoded data removed]",
      "text/plain": [
       "<Figure size 432x288 with 1 Axes>"
      ]
     },
     "metadata": {
      "needs_background": "light"
     },
     "output_type": "display_data"
    }
   ],
   "source": [
    "submissions.pol.hist()"
   ]
  },
  {
   "cell_type": "code",
   "execution_count": 33,
   "metadata": {},
   "outputs": [],
   "source": [
    "time_subs = submissions.groupby(['date']).mean()\n",
    "time_subs.reset_index(inplace=True)"
   ]
  },
  {
   "cell_type": "code",
   "execution_count": 40,
   "metadata": {},
   "outputs": [
    {
     "data": {
      "text/html": [
       "<div>\n",
       "<style scoped>\n",
       "    .dataframe tbody tr th:only-of-type {\n",
       "        vertical-align: middle;\n",
       "    }\n",
       "\n",
       "    .dataframe tbody tr th {\n",
       "        vertical-align: top;\n",
       "    }\n",
       "\n",
       "    .dataframe thead th {\n",
       "        text-align: right;\n",
       "    }\n",
       "</style>\n",
       "<table border=\"1\" class=\"dataframe\">\n",
       "  <thead>\n",
       "    <tr style=\"text-align: right;\">\n",
       "      <th></th>\n",
       "      <th>date</th>\n",
       "      <th>ups</th>\n",
       "      <th>upvote_ratio</th>\n",
       "      <th>num_comments</th>\n",
       "      <th>sub</th>\n",
       "      <th>pol</th>\n",
       "      <th>vs_neg</th>\n",
       "      <th>vs_pos</th>\n",
       "      <th>vs_neu</th>\n",
       "      <th>vs_com</th>\n",
       "    </tr>\n",
       "  </thead>\n",
       "  <tbody>\n",
       "    <tr>\n",
       "      <th>275</th>\n",
       "      <td>2022-11-14</td>\n",
       "      <td>1279.75</td>\n",
       "      <td>0.90375</td>\n",
       "      <td>419.5</td>\n",
       "      <td>0.15625</td>\n",
       "      <td>-0.05</td>\n",
       "      <td>0.068875</td>\n",
       "      <td>0.046875</td>\n",
       "      <td>0.884125</td>\n",
       "      <td>-0.095</td>\n",
       "    </tr>\n",
       "  </tbody>\n",
       "</table>\n",
       "</div>"
      ],
      "text/plain": [
       "          date      ups  upvote_ratio  num_comments      sub   pol    vs_neg  \\\n",
       "275 2022-11-14  1279.75       0.90375         419.5  0.15625 -0.05  0.068875   \n",
       "\n",
       "       vs_pos    vs_neu  vs_com  \n",
       "275  0.046875  0.884125  -0.095  "
      ]
     },
     "execution_count": 40,
     "metadata": {},
     "output_type": "execute_result"
    }
   ],
   "source": [
    "time_subs.query(\"date == '2022-11-14'\")"
   ]
  }
 ],
 "metadata": {
  "kernelspec": {
   "display_name": "base",
   "language": "python",
   "name": "python3"
  },
  "language_info": {
   "codemirror_mode": {
    "name": "ipython",
    "version": 3
   },
   "file_extension": ".py",
   "mimetype": "text/x-python",
   "name": "python",
   "nbconvert_exporter": "python",
   "pygments_lexer": "ipython3",
   "version": "3.8.8"
  },
  "orig_nbformat": 4,
  "vscode": {
   "interpreter": {
    "hash": "40d3a090f54c6569ab1632332b64b2c03c39dcf918b08424e98f38b5ae0af88f"
   }
  }
 },
 "nbformat": 4,
 "nbformat_minor": 2
}
