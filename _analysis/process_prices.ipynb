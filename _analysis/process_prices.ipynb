{
 "cells": [
  {
   "cell_type": "code",
   "execution_count": 2,
   "metadata": {},
   "outputs": [],
   "source": [
    "import pandas as pd\n",
    "import json"
   ]
  },
  {
   "cell_type": "code",
   "execution_count": 15,
   "metadata": {},
   "outputs": [],
   "source": [
    "allprices = json.load(open(\"../_data/AllPrices.json\"))"
   ]
  },
  {
   "cell_type": "code",
   "execution_count": 16,
   "metadata": {},
   "outputs": [
    {
     "data": {
      "text/plain": [
       "8.99"
      ]
     },
     "execution_count": 16,
     "metadata": {},
     "output_type": "execute_result"
    }
   ],
   "source": [
    "allprices['data']['00010d56-fe38-5e35-8aed-518019aa36a5']['paper']['tcgplayer']['retail']['foil']['2022-10-28']"
   ]
  },
  {
   "cell_type": "code",
   "execution_count": 97,
   "metadata": {},
   "outputs": [
    {
     "data": {
      "text/plain": [
       "77055"
      ]
     },
     "execution_count": 97,
     "metadata": {},
     "output_type": "execute_result"
    }
   ],
   "source": [
    "id_list = [i for i in allprices['data']]\n",
    "len(id_list)"
   ]
  },
  {
   "cell_type": "code",
   "execution_count": 94,
   "metadata": {},
   "outputs": [],
   "source": [
    "price_list = []\n",
    "for id in id_list:\n",
    "  try:\n",
    "    # only keep instances where there are paper cards sold at tcgplayer at retail price\n",
    "    card_styles = allprices['data'][id].get('paper').get('tcgplayer').get('retail')\n",
    "    for each_card in card_styles:\n",
    "        for each_date in card_styles.get(each_card):\n",
    "          price = card_styles.get(each_card).get(each_date)\n",
    "          price_list.append( (id,each_card,each_date,price) )\n",
    "  except:\n",
    "    pass"
   ]
  },
  {
   "cell_type": "code",
   "execution_count": 95,
   "metadata": {},
   "outputs": [],
   "source": [
    "price_df = pd.DataFrame(price_list, columns=['id', 'type', 'date','price'])"
   ]
  },
  {
   "cell_type": "code",
   "execution_count": 98,
   "metadata": {},
   "outputs": [
    {
     "data": {
      "text/plain": [
       "66595"
      ]
     },
     "execution_count": 98,
     "metadata": {},
     "output_type": "execute_result"
    }
   ],
   "source": [
    "len(price_df.id.unique())"
   ]
  },
  {
   "cell_type": "code",
   "execution_count": 100,
   "metadata": {},
   "outputs": [],
   "source": [
    "price_df.to_csv(\"../_data/allprices_output.csv\", index=False)"
   ]
  },
  {
   "cell_type": "code",
   "execution_count": 112,
   "metadata": {},
   "outputs": [
    {
     "data": {
      "text/html": [
       "<div>\n",
       "<style scoped>\n",
       "    .dataframe tbody tr th:only-of-type {\n",
       "        vertical-align: middle;\n",
       "    }\n",
       "\n",
       "    .dataframe tbody tr th {\n",
       "        vertical-align: top;\n",
       "    }\n",
       "\n",
       "    .dataframe thead th {\n",
       "        text-align: right;\n",
       "    }\n",
       "</style>\n",
       "<table border=\"1\" class=\"dataframe\">\n",
       "  <thead>\n",
       "    <tr style=\"text-align: right;\">\n",
       "      <th></th>\n",
       "      <th>id</th>\n",
       "      <th>type</th>\n",
       "      <th>price</th>\n",
       "    </tr>\n",
       "  </thead>\n",
       "  <tbody>\n",
       "    <tr>\n",
       "      <th>0</th>\n",
       "      <td>00010d56-fe38-5e35-8aed-518019aa36a5</td>\n",
       "      <td>foil</td>\n",
       "      <td>8.69</td>\n",
       "    </tr>\n",
       "    <tr>\n",
       "      <th>1</th>\n",
       "      <td>0001e0d0-2dcd-5640-aadc-a84765cf5fc9</td>\n",
       "      <td>normal</td>\n",
       "      <td>5.51</td>\n",
       "    </tr>\n",
       "    <tr>\n",
       "      <th>2</th>\n",
       "      <td>0003caab-9ff5-5d1a-bc06-976dd0457f19</td>\n",
       "      <td>foil</td>\n",
       "      <td>4.93</td>\n",
       "    </tr>\n",
       "    <tr>\n",
       "      <th>3</th>\n",
       "      <td>0003caab-9ff5-5d1a-bc06-976dd0457f19</td>\n",
       "      <td>normal</td>\n",
       "      <td>0.19</td>\n",
       "    </tr>\n",
       "    <tr>\n",
       "      <th>4</th>\n",
       "      <td>0003d249-25d9-5223-af1e-1130f09622a7</td>\n",
       "      <td>foil</td>\n",
       "      <td>0.30</td>\n",
       "    </tr>\n",
       "    <tr>\n",
       "      <th>...</th>\n",
       "      <td>...</td>\n",
       "      <td>...</td>\n",
       "      <td>...</td>\n",
       "    </tr>\n",
       "    <tr>\n",
       "      <th>100815</th>\n",
       "      <td>fffa9242-6444-567c-a45b-da2b45249232</td>\n",
       "      <td>foil</td>\n",
       "      <td>0.47</td>\n",
       "    </tr>\n",
       "    <tr>\n",
       "      <th>100816</th>\n",
       "      <td>fffb659e-b3fa-5cd8-9423-fe5ac74248b5</td>\n",
       "      <td>normal</td>\n",
       "      <td>0.30</td>\n",
       "    </tr>\n",
       "    <tr>\n",
       "      <th>100817</th>\n",
       "      <td>fffbc95a-c4d1-56aa-8653-8a7c71fe19ce</td>\n",
       "      <td>normal</td>\n",
       "      <td>7.45</td>\n",
       "    </tr>\n",
       "    <tr>\n",
       "      <th>100818</th>\n",
       "      <td>fffc1305-a118-559b-9504-3d7b56ca0bde</td>\n",
       "      <td>normal</td>\n",
       "      <td>1.65</td>\n",
       "    </tr>\n",
       "    <tr>\n",
       "      <th>100819</th>\n",
       "      <td>fffdd333-3789-5104-a8be-37be199a2cb1</td>\n",
       "      <td>normal</td>\n",
       "      <td>1.65</td>\n",
       "    </tr>\n",
       "  </tbody>\n",
       "</table>\n",
       "<p>100820 rows × 3 columns</p>\n",
       "</div>"
      ],
      "text/plain": [
       "                                          id    type  price\n",
       "0       00010d56-fe38-5e35-8aed-518019aa36a5    foil   8.69\n",
       "1       0001e0d0-2dcd-5640-aadc-a84765cf5fc9  normal   5.51\n",
       "2       0003caab-9ff5-5d1a-bc06-976dd0457f19    foil   4.93\n",
       "3       0003caab-9ff5-5d1a-bc06-976dd0457f19  normal   0.19\n",
       "4       0003d249-25d9-5223-af1e-1130f09622a7    foil   0.30\n",
       "...                                      ...     ...    ...\n",
       "100815  fffa9242-6444-567c-a45b-da2b45249232    foil   0.47\n",
       "100816  fffb659e-b3fa-5cd8-9423-fe5ac74248b5  normal   0.30\n",
       "100817  fffbc95a-c4d1-56aa-8653-8a7c71fe19ce  normal   7.45\n",
       "100818  fffc1305-a118-559b-9504-3d7b56ca0bde  normal   1.65\n",
       "100819  fffdd333-3789-5104-a8be-37be199a2cb1  normal   1.65\n",
       "\n",
       "[100820 rows x 3 columns]"
      ]
     },
     "execution_count": 112,
     "metadata": {},
     "output_type": "execute_result"
    }
   ],
   "source": [
    "avg_price = price_df[['id', 'type', 'price']].groupby(['id', 'type']).mean().round(2).reset_index()\n",
    "avg_price"
   ]
  },
  {
   "cell_type": "code",
   "execution_count": 113,
   "metadata": {},
   "outputs": [],
   "source": [
    "avg_price.to_csv('../_data/avg_price_output.csv', index=False)"
   ]
  },
  {
   "cell_type": "code",
   "execution_count": null,
   "metadata": {},
   "outputs": [],
   "source": [
    "# TODO: connect to the allprintings.json file to get card data"
   ]
  }
 ],
 "metadata": {
  "kernelspec": {
   "display_name": "base",
   "language": "python",
   "name": "python3"
  },
  "language_info": {
   "codemirror_mode": {
    "name": "ipython",
    "version": 3
   },
   "file_extension": ".py",
   "mimetype": "text/x-python",
   "name": "python",
   "nbconvert_exporter": "python",
   "pygments_lexer": "ipython3",
   "version": "3.8.8"
  },
  "orig_nbformat": 4,
  "vscode": {
   "interpreter": {
    "hash": "40d3a090f54c6569ab1632332b64b2c03c39dcf918b08424e98f38b5ae0af88f"
   }
  }
 },
 "nbformat": 4,
 "nbformat_minor": 2
}
